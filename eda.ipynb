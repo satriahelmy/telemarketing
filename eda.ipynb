{
 "cells": [
  {
   "cell_type": "markdown",
   "id": "5338d59d-762c-4f92-b0f4-92cba6a54cd4",
   "metadata": {},
   "source": [
    "# 1. Import Params"
   ]
  },
  {
   "cell_type": "code",
   "execution_count": 26,
   "id": "645de7e8-732e-4bd3-9567-277fab91c14a",
   "metadata": {},
   "outputs": [],
   "source": [
    "import pandas as pd\n",
    "import numpy as np\n",
    "import seaborn as sns\n",
    "import scipy.stats as scs\n",
    "import joblib\n",
    "import yaml\n",
    "import matplotlib.pyplot as plt\n",
    "import src.util as util\n",
    "from imblearn.under_sampling import RandomUnderSampler"
   ]
  },
  {
   "cell_type": "code",
   "execution_count": 2,
   "id": "6795d024-2f78-43f3-8fe1-d0570d0f0fd4",
   "metadata": {},
   "outputs": [
    {
     "data": {
      "text/plain": [
       "{'raw_dataset_dir': 'data/raw/',\n",
       " 'train_set_path': ['data/processed/x_train.pkl',\n",
       "  'data/processed/y_train.pkl'],\n",
       " 'valid_set_path': ['data/processed/x_valid.pkl',\n",
       "  'data/processed/y_valid.pkl'],\n",
       " 'test_set_path': ['data/processed/x_test.pkl', 'data/processed/y_test.pkl'],\n",
       " 'train_feng_set_path': ['data/processed/x_train_feng.pkl',\n",
       "  'data/processed/y_train_feng.pkl'],\n",
       " 'valid_feng_set_path': ['data/processed/x_valid_feng.pkl',\n",
       "  'data/processed/y_valid_feng.pkl'],\n",
       " 'test_feng_set_path': ['data/processed/x_test_feng.pkl',\n",
       "  'data/processed/y_test_feng.pkl'],\n",
       " 'raw_dataset_path': 'data/processed/raw_dataset.pkl',\n",
       " 'cleaned_raw_dataset_path': 'data/processed/raw_dataset.pkl',\n",
       " 'production_model_path': 'models/production_model.pkl',\n",
       " 'ohe_job_path': 'models/ohe_job.pkl',\n",
       " 'ohe_marital_path': 'models/ohe_marital.pkl',\n",
       " 'ohe_education_path': 'models/ohe_education.pkl',\n",
       " 'ohe_default_path': 'models/ohe_default.pkl',\n",
       " 'ohe_housing_path': 'models/ohe_housing.pkl',\n",
       " 'ohe_loan_path': 'models/ohe_loan.pkl',\n",
       " 'ohe_contact_path': 'models/ohe_contact.pkl',\n",
       " 'ohe_month_path': 'models/ohe_month.pkl',\n",
       " 'ohe_day_of_week_path': 'models/ohe_day_of_week.pkl',\n",
       " 'ohe_poutcome_path': 'models/ohe_poutcome.pkl',\n",
       " 'ohe_pdays_group_path': 'models/ohe_pdays_group.pkl',\n",
       " 'ohe_age_group_path': 'models/ohe_age_group.pkl',\n",
       " 'scaler_path': 'models/scaler.pkl',\n",
       " 'le_path': 'models/label_encoder.pkl',\n",
       " 'training_log_path': 'log/training_log.json',\n",
       " 'print_debug': True,\n",
       " 'int64_columns': ['age', 'duration', 'campaign', 'pdays', 'previous'],\n",
       " 'object_columns': ['job',\n",
       "  'marital',\n",
       "  'education',\n",
       "  'default',\n",
       "  'housing',\n",
       "  'loan',\n",
       "  'contact',\n",
       "  'month',\n",
       "  'day_of_week',\n",
       "  'poutcome',\n",
       "  'y'],\n",
       " 'float64_columns': ['emp.var.rate',\n",
       "  'cons.price.idx',\n",
       "  'cons.conf.idx',\n",
       "  'euribor3m',\n",
       "  'nr.employed'],\n",
       " 'label': 'y',\n",
       " 'predictors': ['age',\n",
       "  'job',\n",
       "  'marital',\n",
       "  'education',\n",
       "  'default',\n",
       "  'housing',\n",
       "  'loan',\n",
       "  'contact',\n",
       "  'month',\n",
       "  'day_of_week',\n",
       "  'duration',\n",
       "  'campaign',\n",
       "  'pdays',\n",
       "  'previous',\n",
       "  'poutcome',\n",
       "  'emp.var.rate',\n",
       "  'cons.price.idx',\n",
       "  'cons.conf.idx',\n",
       "  'euribor3m',\n",
       "  'nr.employed'],\n",
       " 'predictors_categorical': ['job',\n",
       "  'marital',\n",
       "  'education',\n",
       "  'default',\n",
       "  'housing',\n",
       "  'loan',\n",
       "  'contact',\n",
       "  'month',\n",
       "  'day_of_week',\n",
       "  'poutcome',\n",
       "  'pdays_group',\n",
       "  'age_group'],\n",
       " 'range_age': [17, 99],\n",
       " 'range_duration': [0, 4918],\n",
       " 'range_campaign': [1, 56],\n",
       " 'range_pdays': [-1, 999],\n",
       " 'range_previous': [0, 7],\n",
       " 'range_poutcome': ['nonexistent', 'failure', 'success'],\n",
       " 'range_job': ['admin.',\n",
       "  'blue-collar',\n",
       "  'technician',\n",
       "  'services',\n",
       "  'management',\n",
       "  'retired',\n",
       "  'entrepreneur',\n",
       "  'self-employed',\n",
       "  'housemaid',\n",
       "  'unemployed',\n",
       "  'student',\n",
       "  'unknown'],\n",
       " 'range_marital': ['married', 'single', 'divorced', 'unknown'],\n",
       " 'range_education': ['university.degree',\n",
       "  'high.school',\n",
       "  'basic.9y',\n",
       "  'professional.course',\n",
       "  'basic.4y',\n",
       "  'basic.6y',\n",
       "  'unknown',\n",
       "  'illiterate'],\n",
       " 'range_default': ['no', 'unknown', 'yes'],\n",
       " 'range_housing': ['yes', 'no', 'unknown'],\n",
       " 'range_loan': ['no', 'yes', 'unknown'],\n",
       " 'range_contact': ['cellular', 'telephone'],\n",
       " 'range_month': ['may',\n",
       "  'jul',\n",
       "  'aug',\n",
       "  'jun',\n",
       "  'nov',\n",
       "  'apr',\n",
       "  'oct',\n",
       "  'sep',\n",
       "  'mar',\n",
       "  'dec'],\n",
       " 'range_day_of_week': ['thu', 'mon', 'wed', 'tue', 'fri'],\n",
       " 'range_emp.var.rate': [-3.4, 1.4],\n",
       " 'range_cons.price.idx': [90, 95],\n",
       " 'range_cons.conf.idx': [-51, -26],\n",
       " 'range_euribor3m': [0.63, 5.1],\n",
       " 'range_nr.employed': [4963, 5229],\n",
       " 'range_y': ['no', 'yes'],\n",
       " 'range_pdays_group': ['Not contacted', '1w', '2w', '2w_more'],\n",
       " 'range_age_group': ['31-40', '41-50', '30less', '51-60', '60more'],\n",
       " 'label_categories': ['no', 'yes']}"
      ]
     },
     "execution_count": 2,
     "metadata": {},
     "output_type": "execute_result"
    }
   ],
   "source": [
    "params = util.load_config()\n",
    "params"
   ]
  },
  {
   "cell_type": "markdown",
   "id": "79f53b62-5f1d-404e-b001-836f93146c2d",
   "metadata": {},
   "source": [
    "# 2. Load Train Data"
   ]
  },
  {
   "cell_type": "code",
   "execution_count": 3,
   "id": "77c57abc-f70b-466a-9b7b-71745521b7ff",
   "metadata": {},
   "outputs": [],
   "source": [
    "x_train = joblib.load(\"data/processed/x_train.pkl\")\n",
    "y_train = joblib.load(\"data/processed/y_train.pkl\")"
   ]
  },
  {
   "cell_type": "code",
   "execution_count": 4,
   "id": "6a94c5b2-21eb-414d-8b76-e8d79d617d2a",
   "metadata": {},
   "outputs": [
    {
     "data": {
      "text/html": [
       "<div>\n",
       "<style scoped>\n",
       "    .dataframe tbody tr th:only-of-type {\n",
       "        vertical-align: middle;\n",
       "    }\n",
       "\n",
       "    .dataframe tbody tr th {\n",
       "        vertical-align: top;\n",
       "    }\n",
       "\n",
       "    .dataframe thead th {\n",
       "        text-align: right;\n",
       "    }\n",
       "</style>\n",
       "<table border=\"1\" class=\"dataframe\">\n",
       "  <thead>\n",
       "    <tr style=\"text-align: right;\">\n",
       "      <th></th>\n",
       "      <th>age</th>\n",
       "      <th>job</th>\n",
       "      <th>marital</th>\n",
       "      <th>education</th>\n",
       "      <th>default</th>\n",
       "      <th>housing</th>\n",
       "      <th>loan</th>\n",
       "      <th>contact</th>\n",
       "      <th>month</th>\n",
       "      <th>day_of_week</th>\n",
       "      <th>duration</th>\n",
       "      <th>campaign</th>\n",
       "      <th>pdays</th>\n",
       "      <th>previous</th>\n",
       "      <th>poutcome</th>\n",
       "      <th>emp.var.rate</th>\n",
       "      <th>cons.price.idx</th>\n",
       "      <th>cons.conf.idx</th>\n",
       "      <th>euribor3m</th>\n",
       "      <th>nr.employed</th>\n",
       "    </tr>\n",
       "  </thead>\n",
       "  <tbody>\n",
       "    <tr>\n",
       "      <th>27506</th>\n",
       "      <td>57</td>\n",
       "      <td>admin.</td>\n",
       "      <td>married</td>\n",
       "      <td>high.school</td>\n",
       "      <td>no</td>\n",
       "      <td>yes</td>\n",
       "      <td>no</td>\n",
       "      <td>cellular</td>\n",
       "      <td>nov</td>\n",
       "      <td>fri</td>\n",
       "      <td>41</td>\n",
       "      <td>2</td>\n",
       "      <td>-1</td>\n",
       "      <td>0</td>\n",
       "      <td>nonexistent</td>\n",
       "      <td>-0.1</td>\n",
       "      <td>93.200</td>\n",
       "      <td>-42.0</td>\n",
       "      <td>4.021</td>\n",
       "      <td>5195.8</td>\n",
       "    </tr>\n",
       "    <tr>\n",
       "      <th>20991</th>\n",
       "      <td>44</td>\n",
       "      <td>blue-collar</td>\n",
       "      <td>married</td>\n",
       "      <td>basic.6y</td>\n",
       "      <td>unknown</td>\n",
       "      <td>no</td>\n",
       "      <td>no</td>\n",
       "      <td>cellular</td>\n",
       "      <td>aug</td>\n",
       "      <td>thu</td>\n",
       "      <td>145</td>\n",
       "      <td>1</td>\n",
       "      <td>-1</td>\n",
       "      <td>0</td>\n",
       "      <td>nonexistent</td>\n",
       "      <td>1.4</td>\n",
       "      <td>93.444</td>\n",
       "      <td>-36.1</td>\n",
       "      <td>4.964</td>\n",
       "      <td>5228.1</td>\n",
       "    </tr>\n",
       "    <tr>\n",
       "      <th>34380</th>\n",
       "      <td>31</td>\n",
       "      <td>blue-collar</td>\n",
       "      <td>single</td>\n",
       "      <td>high.school</td>\n",
       "      <td>no</td>\n",
       "      <td>no</td>\n",
       "      <td>no</td>\n",
       "      <td>cellular</td>\n",
       "      <td>may</td>\n",
       "      <td>thu</td>\n",
       "      <td>451</td>\n",
       "      <td>1</td>\n",
       "      <td>-1</td>\n",
       "      <td>1</td>\n",
       "      <td>failure</td>\n",
       "      <td>-1.8</td>\n",
       "      <td>92.893</td>\n",
       "      <td>-46.2</td>\n",
       "      <td>1.266</td>\n",
       "      <td>5099.1</td>\n",
       "    </tr>\n",
       "    <tr>\n",
       "      <th>17259</th>\n",
       "      <td>53</td>\n",
       "      <td>retired</td>\n",
       "      <td>married</td>\n",
       "      <td>professional.course</td>\n",
       "      <td>no</td>\n",
       "      <td>no</td>\n",
       "      <td>no</td>\n",
       "      <td>cellular</td>\n",
       "      <td>jul</td>\n",
       "      <td>fri</td>\n",
       "      <td>124</td>\n",
       "      <td>2</td>\n",
       "      <td>-1</td>\n",
       "      <td>0</td>\n",
       "      <td>nonexistent</td>\n",
       "      <td>1.4</td>\n",
       "      <td>93.918</td>\n",
       "      <td>-42.7</td>\n",
       "      <td>4.962</td>\n",
       "      <td>5228.1</td>\n",
       "    </tr>\n",
       "    <tr>\n",
       "      <th>15329</th>\n",
       "      <td>31</td>\n",
       "      <td>self-employed</td>\n",
       "      <td>single</td>\n",
       "      <td>university.degree</td>\n",
       "      <td>no</td>\n",
       "      <td>yes</td>\n",
       "      <td>no</td>\n",
       "      <td>cellular</td>\n",
       "      <td>jul</td>\n",
       "      <td>fri</td>\n",
       "      <td>85</td>\n",
       "      <td>2</td>\n",
       "      <td>-1</td>\n",
       "      <td>0</td>\n",
       "      <td>nonexistent</td>\n",
       "      <td>1.4</td>\n",
       "      <td>93.918</td>\n",
       "      <td>-42.7</td>\n",
       "      <td>4.957</td>\n",
       "      <td>5228.1</td>\n",
       "    </tr>\n",
       "    <tr>\n",
       "      <th>...</th>\n",
       "      <td>...</td>\n",
       "      <td>...</td>\n",
       "      <td>...</td>\n",
       "      <td>...</td>\n",
       "      <td>...</td>\n",
       "      <td>...</td>\n",
       "      <td>...</td>\n",
       "      <td>...</td>\n",
       "      <td>...</td>\n",
       "      <td>...</td>\n",
       "      <td>...</td>\n",
       "      <td>...</td>\n",
       "      <td>...</td>\n",
       "      <td>...</td>\n",
       "      <td>...</td>\n",
       "      <td>...</td>\n",
       "      <td>...</td>\n",
       "      <td>...</td>\n",
       "      <td>...</td>\n",
       "      <td>...</td>\n",
       "    </tr>\n",
       "    <tr>\n",
       "      <th>6971</th>\n",
       "      <td>32</td>\n",
       "      <td>management</td>\n",
       "      <td>married</td>\n",
       "      <td>university.degree</td>\n",
       "      <td>no</td>\n",
       "      <td>yes</td>\n",
       "      <td>no</td>\n",
       "      <td>telephone</td>\n",
       "      <td>may</td>\n",
       "      <td>thu</td>\n",
       "      <td>619</td>\n",
       "      <td>1</td>\n",
       "      <td>-1</td>\n",
       "      <td>0</td>\n",
       "      <td>nonexistent</td>\n",
       "      <td>1.1</td>\n",
       "      <td>93.994</td>\n",
       "      <td>-36.4</td>\n",
       "      <td>4.860</td>\n",
       "      <td>5191.0</td>\n",
       "    </tr>\n",
       "    <tr>\n",
       "      <th>8970</th>\n",
       "      <td>33</td>\n",
       "      <td>admin.</td>\n",
       "      <td>married</td>\n",
       "      <td>university.degree</td>\n",
       "      <td>no</td>\n",
       "      <td>unknown</td>\n",
       "      <td>unknown</td>\n",
       "      <td>telephone</td>\n",
       "      <td>jun</td>\n",
       "      <td>thu</td>\n",
       "      <td>49</td>\n",
       "      <td>1</td>\n",
       "      <td>-1</td>\n",
       "      <td>0</td>\n",
       "      <td>nonexistent</td>\n",
       "      <td>1.4</td>\n",
       "      <td>94.465</td>\n",
       "      <td>-41.8</td>\n",
       "      <td>4.866</td>\n",
       "      <td>5228.1</td>\n",
       "    </tr>\n",
       "    <tr>\n",
       "      <th>33752</th>\n",
       "      <td>30</td>\n",
       "      <td>entrepreneur</td>\n",
       "      <td>married</td>\n",
       "      <td>university.degree</td>\n",
       "      <td>no</td>\n",
       "      <td>no</td>\n",
       "      <td>no</td>\n",
       "      <td>cellular</td>\n",
       "      <td>may</td>\n",
       "      <td>wed</td>\n",
       "      <td>585</td>\n",
       "      <td>1</td>\n",
       "      <td>-1</td>\n",
       "      <td>0</td>\n",
       "      <td>nonexistent</td>\n",
       "      <td>-1.8</td>\n",
       "      <td>92.893</td>\n",
       "      <td>-46.2</td>\n",
       "      <td>1.281</td>\n",
       "      <td>5099.1</td>\n",
       "    </tr>\n",
       "    <tr>\n",
       "      <th>18503</th>\n",
       "      <td>34</td>\n",
       "      <td>technician</td>\n",
       "      <td>married</td>\n",
       "      <td>professional.course</td>\n",
       "      <td>unknown</td>\n",
       "      <td>no</td>\n",
       "      <td>no</td>\n",
       "      <td>cellular</td>\n",
       "      <td>jul</td>\n",
       "      <td>thu</td>\n",
       "      <td>61</td>\n",
       "      <td>1</td>\n",
       "      <td>-1</td>\n",
       "      <td>0</td>\n",
       "      <td>nonexistent</td>\n",
       "      <td>1.4</td>\n",
       "      <td>93.918</td>\n",
       "      <td>-42.7</td>\n",
       "      <td>4.968</td>\n",
       "      <td>5228.1</td>\n",
       "    </tr>\n",
       "    <tr>\n",
       "      <th>24790</th>\n",
       "      <td>35</td>\n",
       "      <td>admin.</td>\n",
       "      <td>married</td>\n",
       "      <td>high.school</td>\n",
       "      <td>no</td>\n",
       "      <td>no</td>\n",
       "      <td>no</td>\n",
       "      <td>cellular</td>\n",
       "      <td>nov</td>\n",
       "      <td>tue</td>\n",
       "      <td>95</td>\n",
       "      <td>1</td>\n",
       "      <td>-1</td>\n",
       "      <td>0</td>\n",
       "      <td>nonexistent</td>\n",
       "      <td>-0.1</td>\n",
       "      <td>93.200</td>\n",
       "      <td>-42.0</td>\n",
       "      <td>4.153</td>\n",
       "      <td>5195.8</td>\n",
       "    </tr>\n",
       "  </tbody>\n",
       "</table>\n",
       "<p>28823 rows × 20 columns</p>\n",
       "</div>"
      ],
      "text/plain": [
       "       age            job  marital            education  default  housing  \\\n",
       "27506   57         admin.  married          high.school       no      yes   \n",
       "20991   44    blue-collar  married             basic.6y  unknown       no   \n",
       "34380   31    blue-collar   single          high.school       no       no   \n",
       "17259   53        retired  married  professional.course       no       no   \n",
       "15329   31  self-employed   single    university.degree       no      yes   \n",
       "...    ...            ...      ...                  ...      ...      ...   \n",
       "6971    32     management  married    university.degree       no      yes   \n",
       "8970    33         admin.  married    university.degree       no  unknown   \n",
       "33752   30   entrepreneur  married    university.degree       no       no   \n",
       "18503   34     technician  married  professional.course  unknown       no   \n",
       "24790   35         admin.  married          high.school       no       no   \n",
       "\n",
       "          loan    contact month day_of_week  duration  campaign  pdays  \\\n",
       "27506       no   cellular   nov         fri        41         2     -1   \n",
       "20991       no   cellular   aug         thu       145         1     -1   \n",
       "34380       no   cellular   may         thu       451         1     -1   \n",
       "17259       no   cellular   jul         fri       124         2     -1   \n",
       "15329       no   cellular   jul         fri        85         2     -1   \n",
       "...        ...        ...   ...         ...       ...       ...    ...   \n",
       "6971        no  telephone   may         thu       619         1     -1   \n",
       "8970   unknown  telephone   jun         thu        49         1     -1   \n",
       "33752       no   cellular   may         wed       585         1     -1   \n",
       "18503       no   cellular   jul         thu        61         1     -1   \n",
       "24790       no   cellular   nov         tue        95         1     -1   \n",
       "\n",
       "       previous     poutcome  emp.var.rate  cons.price.idx  cons.conf.idx  \\\n",
       "27506         0  nonexistent          -0.1          93.200          -42.0   \n",
       "20991         0  nonexistent           1.4          93.444          -36.1   \n",
       "34380         1      failure          -1.8          92.893          -46.2   \n",
       "17259         0  nonexistent           1.4          93.918          -42.7   \n",
       "15329         0  nonexistent           1.4          93.918          -42.7   \n",
       "...         ...          ...           ...             ...            ...   \n",
       "6971          0  nonexistent           1.1          93.994          -36.4   \n",
       "8970          0  nonexistent           1.4          94.465          -41.8   \n",
       "33752         0  nonexistent          -1.8          92.893          -46.2   \n",
       "18503         0  nonexistent           1.4          93.918          -42.7   \n",
       "24790         0  nonexistent          -0.1          93.200          -42.0   \n",
       "\n",
       "       euribor3m  nr.employed  \n",
       "27506      4.021       5195.8  \n",
       "20991      4.964       5228.1  \n",
       "34380      1.266       5099.1  \n",
       "17259      4.962       5228.1  \n",
       "15329      4.957       5228.1  \n",
       "...          ...          ...  \n",
       "6971       4.860       5191.0  \n",
       "8970       4.866       5228.1  \n",
       "33752      1.281       5099.1  \n",
       "18503      4.968       5228.1  \n",
       "24790      4.153       5195.8  \n",
       "\n",
       "[28823 rows x 20 columns]"
      ]
     },
     "execution_count": 4,
     "metadata": {},
     "output_type": "execute_result"
    }
   ],
   "source": [
    "x_train"
   ]
  },
  {
   "cell_type": "code",
   "execution_count": 5,
   "id": "04941a97-a983-44fd-9cfa-a759c768492b",
   "metadata": {},
   "outputs": [
    {
     "data": {
      "text/plain": [
       "27506     no\n",
       "20991     no\n",
       "34380     no\n",
       "17259     no\n",
       "15329     no\n",
       "        ... \n",
       "6971      no\n",
       "8970      no\n",
       "33752    yes\n",
       "18503     no\n",
       "24790     no\n",
       "Name: y, Length: 28823, dtype: object"
      ]
     },
     "execution_count": 5,
     "metadata": {},
     "output_type": "execute_result"
    }
   ],
   "source": [
    "y_train"
   ]
  },
  {
   "cell_type": "code",
   "execution_count": 8,
   "id": "af6f1041-7807-4969-965f-e1bcf2963aad",
   "metadata": {},
   "outputs": [
    {
     "data": {
      "text/plain": [
       "27506    0\n",
       "20991    0\n",
       "34380    0\n",
       "17259    0\n",
       "15329    0\n",
       "        ..\n",
       "6971     0\n",
       "8970     0\n",
       "33752    1\n",
       "18503    0\n",
       "24790    0\n",
       "Name: y, Length: 28823, dtype: int64"
      ]
     },
     "execution_count": 8,
     "metadata": {},
     "output_type": "execute_result"
    }
   ],
   "source": [
    "y_train_encoded = y_train.map({'yes': 1, 'no': 0})\n",
    "y_train_encoded"
   ]
  },
  {
   "cell_type": "code",
   "execution_count": 9,
   "id": "7f76eca2-4392-4fbb-8603-3db40e3694fa",
   "metadata": {},
   "outputs": [],
   "source": [
    "#gabungkan x dan y train\n",
    "dataset = pd.concat([x_train, y_train_encoded], axis = 1)"
   ]
  },
  {
   "cell_type": "code",
   "execution_count": 10,
   "id": "5cf15786-ad38-4bd4-babb-60d27106c771",
   "metadata": {},
   "outputs": [
    {
     "data": {
      "text/html": [
       "<div>\n",
       "<style scoped>\n",
       "    .dataframe tbody tr th:only-of-type {\n",
       "        vertical-align: middle;\n",
       "    }\n",
       "\n",
       "    .dataframe tbody tr th {\n",
       "        vertical-align: top;\n",
       "    }\n",
       "\n",
       "    .dataframe thead th {\n",
       "        text-align: right;\n",
       "    }\n",
       "</style>\n",
       "<table border=\"1\" class=\"dataframe\">\n",
       "  <thead>\n",
       "    <tr style=\"text-align: right;\">\n",
       "      <th></th>\n",
       "      <th>age</th>\n",
       "      <th>job</th>\n",
       "      <th>marital</th>\n",
       "      <th>education</th>\n",
       "      <th>default</th>\n",
       "      <th>housing</th>\n",
       "      <th>loan</th>\n",
       "      <th>contact</th>\n",
       "      <th>month</th>\n",
       "      <th>day_of_week</th>\n",
       "      <th>...</th>\n",
       "      <th>campaign</th>\n",
       "      <th>pdays</th>\n",
       "      <th>previous</th>\n",
       "      <th>poutcome</th>\n",
       "      <th>emp.var.rate</th>\n",
       "      <th>cons.price.idx</th>\n",
       "      <th>cons.conf.idx</th>\n",
       "      <th>euribor3m</th>\n",
       "      <th>nr.employed</th>\n",
       "      <th>y</th>\n",
       "    </tr>\n",
       "  </thead>\n",
       "  <tbody>\n",
       "    <tr>\n",
       "      <th>27506</th>\n",
       "      <td>57</td>\n",
       "      <td>admin.</td>\n",
       "      <td>married</td>\n",
       "      <td>high.school</td>\n",
       "      <td>no</td>\n",
       "      <td>yes</td>\n",
       "      <td>no</td>\n",
       "      <td>cellular</td>\n",
       "      <td>nov</td>\n",
       "      <td>fri</td>\n",
       "      <td>...</td>\n",
       "      <td>2</td>\n",
       "      <td>-1</td>\n",
       "      <td>0</td>\n",
       "      <td>nonexistent</td>\n",
       "      <td>-0.1</td>\n",
       "      <td>93.200</td>\n",
       "      <td>-42.0</td>\n",
       "      <td>4.021</td>\n",
       "      <td>5195.8</td>\n",
       "      <td>0</td>\n",
       "    </tr>\n",
       "    <tr>\n",
       "      <th>20991</th>\n",
       "      <td>44</td>\n",
       "      <td>blue-collar</td>\n",
       "      <td>married</td>\n",
       "      <td>basic.6y</td>\n",
       "      <td>unknown</td>\n",
       "      <td>no</td>\n",
       "      <td>no</td>\n",
       "      <td>cellular</td>\n",
       "      <td>aug</td>\n",
       "      <td>thu</td>\n",
       "      <td>...</td>\n",
       "      <td>1</td>\n",
       "      <td>-1</td>\n",
       "      <td>0</td>\n",
       "      <td>nonexistent</td>\n",
       "      <td>1.4</td>\n",
       "      <td>93.444</td>\n",
       "      <td>-36.1</td>\n",
       "      <td>4.964</td>\n",
       "      <td>5228.1</td>\n",
       "      <td>0</td>\n",
       "    </tr>\n",
       "    <tr>\n",
       "      <th>34380</th>\n",
       "      <td>31</td>\n",
       "      <td>blue-collar</td>\n",
       "      <td>single</td>\n",
       "      <td>high.school</td>\n",
       "      <td>no</td>\n",
       "      <td>no</td>\n",
       "      <td>no</td>\n",
       "      <td>cellular</td>\n",
       "      <td>may</td>\n",
       "      <td>thu</td>\n",
       "      <td>...</td>\n",
       "      <td>1</td>\n",
       "      <td>-1</td>\n",
       "      <td>1</td>\n",
       "      <td>failure</td>\n",
       "      <td>-1.8</td>\n",
       "      <td>92.893</td>\n",
       "      <td>-46.2</td>\n",
       "      <td>1.266</td>\n",
       "      <td>5099.1</td>\n",
       "      <td>0</td>\n",
       "    </tr>\n",
       "    <tr>\n",
       "      <th>17259</th>\n",
       "      <td>53</td>\n",
       "      <td>retired</td>\n",
       "      <td>married</td>\n",
       "      <td>professional.course</td>\n",
       "      <td>no</td>\n",
       "      <td>no</td>\n",
       "      <td>no</td>\n",
       "      <td>cellular</td>\n",
       "      <td>jul</td>\n",
       "      <td>fri</td>\n",
       "      <td>...</td>\n",
       "      <td>2</td>\n",
       "      <td>-1</td>\n",
       "      <td>0</td>\n",
       "      <td>nonexistent</td>\n",
       "      <td>1.4</td>\n",
       "      <td>93.918</td>\n",
       "      <td>-42.7</td>\n",
       "      <td>4.962</td>\n",
       "      <td>5228.1</td>\n",
       "      <td>0</td>\n",
       "    </tr>\n",
       "    <tr>\n",
       "      <th>15329</th>\n",
       "      <td>31</td>\n",
       "      <td>self-employed</td>\n",
       "      <td>single</td>\n",
       "      <td>university.degree</td>\n",
       "      <td>no</td>\n",
       "      <td>yes</td>\n",
       "      <td>no</td>\n",
       "      <td>cellular</td>\n",
       "      <td>jul</td>\n",
       "      <td>fri</td>\n",
       "      <td>...</td>\n",
       "      <td>2</td>\n",
       "      <td>-1</td>\n",
       "      <td>0</td>\n",
       "      <td>nonexistent</td>\n",
       "      <td>1.4</td>\n",
       "      <td>93.918</td>\n",
       "      <td>-42.7</td>\n",
       "      <td>4.957</td>\n",
       "      <td>5228.1</td>\n",
       "      <td>0</td>\n",
       "    </tr>\n",
       "    <tr>\n",
       "      <th>...</th>\n",
       "      <td>...</td>\n",
       "      <td>...</td>\n",
       "      <td>...</td>\n",
       "      <td>...</td>\n",
       "      <td>...</td>\n",
       "      <td>...</td>\n",
       "      <td>...</td>\n",
       "      <td>...</td>\n",
       "      <td>...</td>\n",
       "      <td>...</td>\n",
       "      <td>...</td>\n",
       "      <td>...</td>\n",
       "      <td>...</td>\n",
       "      <td>...</td>\n",
       "      <td>...</td>\n",
       "      <td>...</td>\n",
       "      <td>...</td>\n",
       "      <td>...</td>\n",
       "      <td>...</td>\n",
       "      <td>...</td>\n",
       "      <td>...</td>\n",
       "    </tr>\n",
       "    <tr>\n",
       "      <th>6971</th>\n",
       "      <td>32</td>\n",
       "      <td>management</td>\n",
       "      <td>married</td>\n",
       "      <td>university.degree</td>\n",
       "      <td>no</td>\n",
       "      <td>yes</td>\n",
       "      <td>no</td>\n",
       "      <td>telephone</td>\n",
       "      <td>may</td>\n",
       "      <td>thu</td>\n",
       "      <td>...</td>\n",
       "      <td>1</td>\n",
       "      <td>-1</td>\n",
       "      <td>0</td>\n",
       "      <td>nonexistent</td>\n",
       "      <td>1.1</td>\n",
       "      <td>93.994</td>\n",
       "      <td>-36.4</td>\n",
       "      <td>4.860</td>\n",
       "      <td>5191.0</td>\n",
       "      <td>0</td>\n",
       "    </tr>\n",
       "    <tr>\n",
       "      <th>8970</th>\n",
       "      <td>33</td>\n",
       "      <td>admin.</td>\n",
       "      <td>married</td>\n",
       "      <td>university.degree</td>\n",
       "      <td>no</td>\n",
       "      <td>unknown</td>\n",
       "      <td>unknown</td>\n",
       "      <td>telephone</td>\n",
       "      <td>jun</td>\n",
       "      <td>thu</td>\n",
       "      <td>...</td>\n",
       "      <td>1</td>\n",
       "      <td>-1</td>\n",
       "      <td>0</td>\n",
       "      <td>nonexistent</td>\n",
       "      <td>1.4</td>\n",
       "      <td>94.465</td>\n",
       "      <td>-41.8</td>\n",
       "      <td>4.866</td>\n",
       "      <td>5228.1</td>\n",
       "      <td>0</td>\n",
       "    </tr>\n",
       "    <tr>\n",
       "      <th>33752</th>\n",
       "      <td>30</td>\n",
       "      <td>entrepreneur</td>\n",
       "      <td>married</td>\n",
       "      <td>university.degree</td>\n",
       "      <td>no</td>\n",
       "      <td>no</td>\n",
       "      <td>no</td>\n",
       "      <td>cellular</td>\n",
       "      <td>may</td>\n",
       "      <td>wed</td>\n",
       "      <td>...</td>\n",
       "      <td>1</td>\n",
       "      <td>-1</td>\n",
       "      <td>0</td>\n",
       "      <td>nonexistent</td>\n",
       "      <td>-1.8</td>\n",
       "      <td>92.893</td>\n",
       "      <td>-46.2</td>\n",
       "      <td>1.281</td>\n",
       "      <td>5099.1</td>\n",
       "      <td>1</td>\n",
       "    </tr>\n",
       "    <tr>\n",
       "      <th>18503</th>\n",
       "      <td>34</td>\n",
       "      <td>technician</td>\n",
       "      <td>married</td>\n",
       "      <td>professional.course</td>\n",
       "      <td>unknown</td>\n",
       "      <td>no</td>\n",
       "      <td>no</td>\n",
       "      <td>cellular</td>\n",
       "      <td>jul</td>\n",
       "      <td>thu</td>\n",
       "      <td>...</td>\n",
       "      <td>1</td>\n",
       "      <td>-1</td>\n",
       "      <td>0</td>\n",
       "      <td>nonexistent</td>\n",
       "      <td>1.4</td>\n",
       "      <td>93.918</td>\n",
       "      <td>-42.7</td>\n",
       "      <td>4.968</td>\n",
       "      <td>5228.1</td>\n",
       "      <td>0</td>\n",
       "    </tr>\n",
       "    <tr>\n",
       "      <th>24790</th>\n",
       "      <td>35</td>\n",
       "      <td>admin.</td>\n",
       "      <td>married</td>\n",
       "      <td>high.school</td>\n",
       "      <td>no</td>\n",
       "      <td>no</td>\n",
       "      <td>no</td>\n",
       "      <td>cellular</td>\n",
       "      <td>nov</td>\n",
       "      <td>tue</td>\n",
       "      <td>...</td>\n",
       "      <td>1</td>\n",
       "      <td>-1</td>\n",
       "      <td>0</td>\n",
       "      <td>nonexistent</td>\n",
       "      <td>-0.1</td>\n",
       "      <td>93.200</td>\n",
       "      <td>-42.0</td>\n",
       "      <td>4.153</td>\n",
       "      <td>5195.8</td>\n",
       "      <td>0</td>\n",
       "    </tr>\n",
       "  </tbody>\n",
       "</table>\n",
       "<p>28823 rows × 21 columns</p>\n",
       "</div>"
      ],
      "text/plain": [
       "       age            job  marital            education  default  housing  \\\n",
       "27506   57         admin.  married          high.school       no      yes   \n",
       "20991   44    blue-collar  married             basic.6y  unknown       no   \n",
       "34380   31    blue-collar   single          high.school       no       no   \n",
       "17259   53        retired  married  professional.course       no       no   \n",
       "15329   31  self-employed   single    university.degree       no      yes   \n",
       "...    ...            ...      ...                  ...      ...      ...   \n",
       "6971    32     management  married    university.degree       no      yes   \n",
       "8970    33         admin.  married    university.degree       no  unknown   \n",
       "33752   30   entrepreneur  married    university.degree       no       no   \n",
       "18503   34     technician  married  professional.course  unknown       no   \n",
       "24790   35         admin.  married          high.school       no       no   \n",
       "\n",
       "          loan    contact month day_of_week  ...  campaign  pdays  previous  \\\n",
       "27506       no   cellular   nov         fri  ...         2     -1         0   \n",
       "20991       no   cellular   aug         thu  ...         1     -1         0   \n",
       "34380       no   cellular   may         thu  ...         1     -1         1   \n",
       "17259       no   cellular   jul         fri  ...         2     -1         0   \n",
       "15329       no   cellular   jul         fri  ...         2     -1         0   \n",
       "...        ...        ...   ...         ...  ...       ...    ...       ...   \n",
       "6971        no  telephone   may         thu  ...         1     -1         0   \n",
       "8970   unknown  telephone   jun         thu  ...         1     -1         0   \n",
       "33752       no   cellular   may         wed  ...         1     -1         0   \n",
       "18503       no   cellular   jul         thu  ...         1     -1         0   \n",
       "24790       no   cellular   nov         tue  ...         1     -1         0   \n",
       "\n",
       "          poutcome emp.var.rate  cons.price.idx  cons.conf.idx  euribor3m  \\\n",
       "27506  nonexistent         -0.1          93.200          -42.0      4.021   \n",
       "20991  nonexistent          1.4          93.444          -36.1      4.964   \n",
       "34380      failure         -1.8          92.893          -46.2      1.266   \n",
       "17259  nonexistent          1.4          93.918          -42.7      4.962   \n",
       "15329  nonexistent          1.4          93.918          -42.7      4.957   \n",
       "...            ...          ...             ...            ...        ...   \n",
       "6971   nonexistent          1.1          93.994          -36.4      4.860   \n",
       "8970   nonexistent          1.4          94.465          -41.8      4.866   \n",
       "33752  nonexistent         -1.8          92.893          -46.2      1.281   \n",
       "18503  nonexistent          1.4          93.918          -42.7      4.968   \n",
       "24790  nonexistent         -0.1          93.200          -42.0      4.153   \n",
       "\n",
       "       nr.employed  y  \n",
       "27506       5195.8  0  \n",
       "20991       5228.1  0  \n",
       "34380       5099.1  0  \n",
       "17259       5228.1  0  \n",
       "15329       5228.1  0  \n",
       "...            ... ..  \n",
       "6971        5191.0  0  \n",
       "8970        5228.1  0  \n",
       "33752       5099.1  1  \n",
       "18503       5228.1  0  \n",
       "24790       5195.8  0  \n",
       "\n",
       "[28823 rows x 21 columns]"
      ]
     },
     "execution_count": 10,
     "metadata": {},
     "output_type": "execute_result"
    }
   ],
   "source": [
    "dataset"
   ]
  },
  {
   "cell_type": "markdown",
   "id": "c70ce44b-121f-426d-bffd-a5166eb76fb8",
   "metadata": {},
   "source": [
    "# 3. EDA"
   ]
  },
  {
   "cell_type": "markdown",
   "id": "da676981-681f-46e7-8406-5890c20d2605",
   "metadata": {},
   "source": [
    "## 3.1 Cek Missing Values"
   ]
  },
  {
   "cell_type": "code",
   "execution_count": 11,
   "id": "b3bdd732-4672-468c-b545-31914b5b5e28",
   "metadata": {},
   "outputs": [
    {
     "data": {
      "text/plain": [
       "age               0\n",
       "job               0\n",
       "marital           0\n",
       "education         0\n",
       "default           0\n",
       "housing           0\n",
       "loan              0\n",
       "contact           0\n",
       "month             0\n",
       "day_of_week       0\n",
       "duration          0\n",
       "campaign          0\n",
       "pdays             0\n",
       "previous          0\n",
       "poutcome          0\n",
       "emp.var.rate      0\n",
       "cons.price.idx    0\n",
       "cons.conf.idx     0\n",
       "euribor3m         0\n",
       "nr.employed       0\n",
       "y                 0\n",
       "dtype: int64"
      ]
     },
     "execution_count": 11,
     "metadata": {},
     "output_type": "execute_result"
    }
   ],
   "source": [
    "dataset.isnull().sum()"
   ]
  },
  {
   "cell_type": "markdown",
   "id": "cb8e8ea0-a192-466c-a82d-98a71f2bf13e",
   "metadata": {},
   "source": [
    "## 3.2 Cek Jumlah Masing-masing Label"
   ]
  },
  {
   "cell_type": "code",
   "execution_count": 25,
   "id": "2ffb32ef-798d-408c-94f3-d36b87aa707f",
   "metadata": {},
   "outputs": [
    {
     "data": {
      "image/png": "[encoded data removed]",
      "text/plain": [
       "<Figure size 432x288 with 1 Axes>"
      ]
     },
     "metadata": {
      "needs_background": "light"
     },
     "output_type": "display_data"
    }
   ],
   "source": [
    "ax = sns.countplot(data = dataset, x = \"y\", label = dataset[\"y\"].unique())\n",
    "ax.bar_label(ax.containers[0])\n",
    "plt.show()"
   ]
  },
  {
   "cell_type": "code",
   "execution_count": 29,
   "id": "be1d7369-53f4-40c4-bde8-395a01a0a789",
   "metadata": {},
   "outputs": [
    {
     "data": {
      "text/html": [
       "<div>\n",
       "<style scoped>\n",
       "    .dataframe tbody tr th:only-of-type {\n",
       "        vertical-align: middle;\n",
       "    }\n",
       "\n",
       "    .dataframe tbody tr th {\n",
       "        vertical-align: top;\n",
       "    }\n",
       "\n",
       "    .dataframe thead th {\n",
       "        text-align: right;\n",
       "    }\n",
       "</style>\n",
       "<table border=\"1\" class=\"dataframe\">\n",
       "  <thead>\n",
       "    <tr style=\"text-align: right;\">\n",
       "      <th></th>\n",
       "      <th>age</th>\n",
       "      <th>job</th>\n",
       "      <th>marital</th>\n",
       "      <th>education</th>\n",
       "      <th>default</th>\n",
       "      <th>housing</th>\n",
       "      <th>loan</th>\n",
       "      <th>contact</th>\n",
       "      <th>month</th>\n",
       "      <th>day_of_week</th>\n",
       "      <th>...</th>\n",
       "      <th>campaign</th>\n",
       "      <th>pdays</th>\n",
       "      <th>previous</th>\n",
       "      <th>poutcome</th>\n",
       "      <th>emp.var.rate</th>\n",
       "      <th>cons.price.idx</th>\n",
       "      <th>cons.conf.idx</th>\n",
       "      <th>euribor3m</th>\n",
       "      <th>nr.employed</th>\n",
       "      <th>y</th>\n",
       "    </tr>\n",
       "  </thead>\n",
       "  <tbody>\n",
       "    <tr>\n",
       "      <th>0</th>\n",
       "      <td>48</td>\n",
       "      <td>technician</td>\n",
       "      <td>married</td>\n",
       "      <td>professional.course</td>\n",
       "      <td>yes</td>\n",
       "      <td>yes</td>\n",
       "      <td>no</td>\n",
       "      <td>cellular</td>\n",
       "      <td>aug</td>\n",
       "      <td>tue</td>\n",
       "      <td>...</td>\n",
       "      <td>1</td>\n",
       "      <td>-1</td>\n",
       "      <td>0</td>\n",
       "      <td>nonexistent</td>\n",
       "      <td>1.4</td>\n",
       "      <td>93.444</td>\n",
       "      <td>-36.1</td>\n",
       "      <td>4.963</td>\n",
       "      <td>5228.1</td>\n",
       "      <td>0</td>\n",
       "    </tr>\n",
       "    <tr>\n",
       "      <th>1</th>\n",
       "      <td>52</td>\n",
       "      <td>retired</td>\n",
       "      <td>married</td>\n",
       "      <td>university.degree</td>\n",
       "      <td>no</td>\n",
       "      <td>yes</td>\n",
       "      <td>no</td>\n",
       "      <td>telephone</td>\n",
       "      <td>nov</td>\n",
       "      <td>thu</td>\n",
       "      <td>...</td>\n",
       "      <td>2</td>\n",
       "      <td>-1</td>\n",
       "      <td>0</td>\n",
       "      <td>nonexistent</td>\n",
       "      <td>-0.1</td>\n",
       "      <td>93.200</td>\n",
       "      <td>-42.0</td>\n",
       "      <td>4.076</td>\n",
       "      <td>5195.8</td>\n",
       "      <td>0</td>\n",
       "    </tr>\n",
       "    <tr>\n",
       "      <th>2</th>\n",
       "      <td>30</td>\n",
       "      <td>services</td>\n",
       "      <td>married</td>\n",
       "      <td>high.school</td>\n",
       "      <td>unknown</td>\n",
       "      <td>no</td>\n",
       "      <td>no</td>\n",
       "      <td>telephone</td>\n",
       "      <td>may</td>\n",
       "      <td>fri</td>\n",
       "      <td>...</td>\n",
       "      <td>2</td>\n",
       "      <td>-1</td>\n",
       "      <td>0</td>\n",
       "      <td>nonexistent</td>\n",
       "      <td>1.1</td>\n",
       "      <td>93.994</td>\n",
       "      <td>-36.4</td>\n",
       "      <td>4.864</td>\n",
       "      <td>5191.0</td>\n",
       "      <td>0</td>\n",
       "    </tr>\n",
       "    <tr>\n",
       "      <th>3</th>\n",
       "      <td>49</td>\n",
       "      <td>housemaid</td>\n",
       "      <td>single</td>\n",
       "      <td>high.school</td>\n",
       "      <td>unknown</td>\n",
       "      <td>yes</td>\n",
       "      <td>yes</td>\n",
       "      <td>telephone</td>\n",
       "      <td>may</td>\n",
       "      <td>mon</td>\n",
       "      <td>...</td>\n",
       "      <td>2</td>\n",
       "      <td>-1</td>\n",
       "      <td>0</td>\n",
       "      <td>nonexistent</td>\n",
       "      <td>1.1</td>\n",
       "      <td>93.994</td>\n",
       "      <td>-36.4</td>\n",
       "      <td>4.857</td>\n",
       "      <td>5191.0</td>\n",
       "      <td>0</td>\n",
       "    </tr>\n",
       "    <tr>\n",
       "      <th>4</th>\n",
       "      <td>30</td>\n",
       "      <td>blue-collar</td>\n",
       "      <td>married</td>\n",
       "      <td>basic.9y</td>\n",
       "      <td>no</td>\n",
       "      <td>yes</td>\n",
       "      <td>no</td>\n",
       "      <td>telephone</td>\n",
       "      <td>may</td>\n",
       "      <td>fri</td>\n",
       "      <td>...</td>\n",
       "      <td>1</td>\n",
       "      <td>-1</td>\n",
       "      <td>0</td>\n",
       "      <td>nonexistent</td>\n",
       "      <td>1.1</td>\n",
       "      <td>93.994</td>\n",
       "      <td>-36.4</td>\n",
       "      <td>4.855</td>\n",
       "      <td>5191.0</td>\n",
       "      <td>0</td>\n",
       "    </tr>\n",
       "    <tr>\n",
       "      <th>...</th>\n",
       "      <td>...</td>\n",
       "      <td>...</td>\n",
       "      <td>...</td>\n",
       "      <td>...</td>\n",
       "      <td>...</td>\n",
       "      <td>...</td>\n",
       "      <td>...</td>\n",
       "      <td>...</td>\n",
       "      <td>...</td>\n",
       "      <td>...</td>\n",
       "      <td>...</td>\n",
       "      <td>...</td>\n",
       "      <td>...</td>\n",
       "      <td>...</td>\n",
       "      <td>...</td>\n",
       "      <td>...</td>\n",
       "      <td>...</td>\n",
       "      <td>...</td>\n",
       "      <td>...</td>\n",
       "      <td>...</td>\n",
       "      <td>...</td>\n",
       "    </tr>\n",
       "    <tr>\n",
       "      <th>6489</th>\n",
       "      <td>25</td>\n",
       "      <td>services</td>\n",
       "      <td>divorced</td>\n",
       "      <td>high.school</td>\n",
       "      <td>no</td>\n",
       "      <td>yes</td>\n",
       "      <td>yes</td>\n",
       "      <td>cellular</td>\n",
       "      <td>jun</td>\n",
       "      <td>thu</td>\n",
       "      <td>...</td>\n",
       "      <td>2</td>\n",
       "      <td>-1</td>\n",
       "      <td>0</td>\n",
       "      <td>nonexistent</td>\n",
       "      <td>-2.9</td>\n",
       "      <td>92.963</td>\n",
       "      <td>-40.8</td>\n",
       "      <td>1.260</td>\n",
       "      <td>5076.2</td>\n",
       "      <td>1</td>\n",
       "    </tr>\n",
       "    <tr>\n",
       "      <th>6490</th>\n",
       "      <td>32</td>\n",
       "      <td>admin.</td>\n",
       "      <td>married</td>\n",
       "      <td>university.degree</td>\n",
       "      <td>no</td>\n",
       "      <td>yes</td>\n",
       "      <td>no</td>\n",
       "      <td>cellular</td>\n",
       "      <td>jun</td>\n",
       "      <td>tue</td>\n",
       "      <td>...</td>\n",
       "      <td>1</td>\n",
       "      <td>3</td>\n",
       "      <td>2</td>\n",
       "      <td>failure</td>\n",
       "      <td>-2.9</td>\n",
       "      <td>92.963</td>\n",
       "      <td>-40.8</td>\n",
       "      <td>1.262</td>\n",
       "      <td>5076.2</td>\n",
       "      <td>1</td>\n",
       "    </tr>\n",
       "    <tr>\n",
       "      <th>6491</th>\n",
       "      <td>48</td>\n",
       "      <td>blue-collar</td>\n",
       "      <td>married</td>\n",
       "      <td>basic.6y</td>\n",
       "      <td>unknown</td>\n",
       "      <td>yes</td>\n",
       "      <td>no</td>\n",
       "      <td>cellular</td>\n",
       "      <td>jul</td>\n",
       "      <td>wed</td>\n",
       "      <td>...</td>\n",
       "      <td>2</td>\n",
       "      <td>-1</td>\n",
       "      <td>0</td>\n",
       "      <td>nonexistent</td>\n",
       "      <td>1.4</td>\n",
       "      <td>93.918</td>\n",
       "      <td>-42.7</td>\n",
       "      <td>4.957</td>\n",
       "      <td>5228.1</td>\n",
       "      <td>1</td>\n",
       "    </tr>\n",
       "    <tr>\n",
       "      <th>6492</th>\n",
       "      <td>61</td>\n",
       "      <td>retired</td>\n",
       "      <td>married</td>\n",
       "      <td>high.school</td>\n",
       "      <td>no</td>\n",
       "      <td>yes</td>\n",
       "      <td>no</td>\n",
       "      <td>cellular</td>\n",
       "      <td>sep</td>\n",
       "      <td>wed</td>\n",
       "      <td>...</td>\n",
       "      <td>1</td>\n",
       "      <td>3</td>\n",
       "      <td>1</td>\n",
       "      <td>success</td>\n",
       "      <td>-3.4</td>\n",
       "      <td>92.379</td>\n",
       "      <td>-29.8</td>\n",
       "      <td>0.753</td>\n",
       "      <td>5017.5</td>\n",
       "      <td>1</td>\n",
       "    </tr>\n",
       "    <tr>\n",
       "      <th>6493</th>\n",
       "      <td>30</td>\n",
       "      <td>entrepreneur</td>\n",
       "      <td>married</td>\n",
       "      <td>university.degree</td>\n",
       "      <td>no</td>\n",
       "      <td>no</td>\n",
       "      <td>no</td>\n",
       "      <td>cellular</td>\n",
       "      <td>may</td>\n",
       "      <td>wed</td>\n",
       "      <td>...</td>\n",
       "      <td>1</td>\n",
       "      <td>-1</td>\n",
       "      <td>0</td>\n",
       "      <td>nonexistent</td>\n",
       "      <td>-1.8</td>\n",
       "      <td>92.893</td>\n",
       "      <td>-46.2</td>\n",
       "      <td>1.281</td>\n",
       "      <td>5099.1</td>\n",
       "      <td>1</td>\n",
       "    </tr>\n",
       "  </tbody>\n",
       "</table>\n",
       "<p>6494 rows × 21 columns</p>\n",
       "</div>"
      ],
      "text/plain": [
       "      age           job   marital            education  default housing loan  \\\n",
       "0      48    technician   married  professional.course      yes     yes   no   \n",
       "1      52       retired   married    university.degree       no     yes   no   \n",
       "2      30      services   married          high.school  unknown      no   no   \n",
       "3      49     housemaid    single          high.school  unknown     yes  yes   \n",
       "4      30   blue-collar   married             basic.9y       no     yes   no   \n",
       "...   ...           ...       ...                  ...      ...     ...  ...   \n",
       "6489   25      services  divorced          high.school       no     yes  yes   \n",
       "6490   32        admin.   married    university.degree       no     yes   no   \n",
       "6491   48   blue-collar   married             basic.6y  unknown     yes   no   \n",
       "6492   61       retired   married          high.school       no     yes   no   \n",
       "6493   30  entrepreneur   married    university.degree       no      no   no   \n",
       "\n",
       "        contact month day_of_week  ...  campaign  pdays  previous  \\\n",
       "0      cellular   aug         tue  ...         1     -1         0   \n",
       "1     telephone   nov         thu  ...         2     -1         0   \n",
       "2     telephone   may         fri  ...         2     -1         0   \n",
       "3     telephone   may         mon  ...         2     -1         0   \n",
       "4     telephone   may         fri  ...         1     -1         0   \n",
       "...         ...   ...         ...  ...       ...    ...       ...   \n",
       "6489   cellular   jun         thu  ...         2     -1         0   \n",
       "6490   cellular   jun         tue  ...         1      3         2   \n",
       "6491   cellular   jul         wed  ...         2     -1         0   \n",
       "6492   cellular   sep         wed  ...         1      3         1   \n",
       "6493   cellular   may         wed  ...         1     -1         0   \n",
       "\n",
       "         poutcome emp.var.rate  cons.price.idx  cons.conf.idx  euribor3m  \\\n",
       "0     nonexistent          1.4          93.444          -36.1      4.963   \n",
       "1     nonexistent         -0.1          93.200          -42.0      4.076   \n",
       "2     nonexistent          1.1          93.994          -36.4      4.864   \n",
       "3     nonexistent          1.1          93.994          -36.4      4.857   \n",
       "4     nonexistent          1.1          93.994          -36.4      4.855   \n",
       "...           ...          ...             ...            ...        ...   \n",
       "6489  nonexistent         -2.9          92.963          -40.8      1.260   \n",
       "6490      failure         -2.9          92.963          -40.8      1.262   \n",
       "6491  nonexistent          1.4          93.918          -42.7      4.957   \n",
       "6492      success         -3.4          92.379          -29.8      0.753   \n",
       "6493  nonexistent         -1.8          92.893          -46.2      1.281   \n",
       "\n",
       "      nr.employed  y  \n",
       "0          5228.1  0  \n",
       "1          5195.8  0  \n",
       "2          5191.0  0  \n",
       "3          5191.0  0  \n",
       "4          5191.0  0  \n",
       "...           ... ..  \n",
       "6489       5076.2  1  \n",
       "6490       5076.2  1  \n",
       "6491       5228.1  1  \n",
       "6492       5017.5  1  \n",
       "6493       5099.1  1  \n",
       "\n",
       "[6494 rows x 21 columns]"
      ]
     },
     "execution_count": 29,
     "metadata": {},
     "output_type": "execute_result"
    }
   ],
   "source": [
    "x, y = RandomUnderSampler(random_state = 42).fit_resample(x_train, y_train_encoded)\n",
    "train_set_bal = pd.concat([x, y], axis = 1)\n",
    "train_set_bal"
   ]
  },
  {
   "cell_type": "code",
   "execution_count": 31,
   "id": "8359af7e-2cc2-46f1-aa5a-6553170a313c",
   "metadata": {},
   "outputs": [
    {
     "data": {
      "image/png": "[encoded data removed]",
      "text/plain": [
       "<Figure size 432x288 with 1 Axes>"
      ]
     },
     "metadata": {
      "needs_background": "light"
     },
     "output_type": "display_data"
    }
   ],
   "source": [
    "ax = sns.countplot(data = train_set_bal, x = \"y\", label = dataset[\"y\"].unique())\n",
    "ax.bar_label(ax.containers[0])\n",
    "plt.show()"
   ]
  },
  {
   "cell_type": "markdown",
   "id": "3a0e1ab4-ce75-487e-8750-873b3f6d0a11",
   "metadata": {},
   "source": [
    "## 3.3. Cek Informasi Statistik"
   ]
  },
  {
   "cell_type": "markdown",
   "id": "8f34223d-a8f3-4943-9397-5016b50290bc",
   "metadata": {},
   "source": [
    "### 3.3.1. Cek Skewness"
   ]
  },
  {
   "cell_type": "code",
   "execution_count": 12,
   "id": "6fe71811-799e-47f7-b1d5-a68ddf34aae8",
   "metadata": {},
   "outputs": [
    {
     "data": {
      "text/plain": [
       "age               0.783457\n",
       "duration          3.162677\n",
       "campaign          4.890643\n",
       "pdays             7.297217\n",
       "previous          3.844635\n",
       "emp.var.rate     -0.723002\n",
       "cons.price.idx   -0.231424\n",
       "cons.conf.idx     0.303789\n",
       "euribor3m        -0.707019\n",
       "nr.employed      -1.045242\n",
       "y                 2.450386\n",
       "dtype: float64"
      ]
     },
     "execution_count": 12,
     "metadata": {},
     "output_type": "execute_result"
    }
   ],
   "source": [
    "dataset.skew(numeric_only = True)"
   ]
  },
  {
   "cell_type": "markdown",
   "id": "33e526c1-1380-458d-9dbc-33efa49ac29e",
   "metadata": {},
   "source": [
    "### 3.3.2. Pemisahan Dataset berdasarkan Kelas"
   ]
  },
  {
   "cell_type": "code",
   "execution_count": 18,
   "id": "fb927738-6bbf-4978-a010-116cbcd59792",
   "metadata": {},
   "outputs": [],
   "source": [
    "# pisahkan menjadi 2 kelas untuk melihat apakah kita perlu melakukan imputasi berdasarkan kelas\n",
    "dataset_yes = dataset[dataset['y'] == 1].copy()\n",
    "dataset_no = dataset[dataset['y'] != 1].copy()"
   ]
  },
  {
   "cell_type": "code",
   "execution_count": 16,
   "id": "c667a7bb-c45f-4e08-a738-4494a0893887",
   "metadata": {},
   "outputs": [
    {
     "data": {
      "text/html": [
       "<div>\n",
       "<style scoped>\n",
       "    .dataframe tbody tr th:only-of-type {\n",
       "        vertical-align: middle;\n",
       "    }\n",
       "\n",
       "    .dataframe tbody tr th {\n",
       "        vertical-align: top;\n",
       "    }\n",
       "\n",
       "    .dataframe thead th {\n",
       "        text-align: right;\n",
       "    }\n",
       "</style>\n",
       "<table border=\"1\" class=\"dataframe\">\n",
       "  <thead>\n",
       "    <tr style=\"text-align: right;\">\n",
       "      <th></th>\n",
       "      <th>age</th>\n",
       "      <th>duration</th>\n",
       "      <th>campaign</th>\n",
       "      <th>pdays</th>\n",
       "      <th>previous</th>\n",
       "      <th>emp.var.rate</th>\n",
       "      <th>cons.price.idx</th>\n",
       "      <th>cons.conf.idx</th>\n",
       "      <th>euribor3m</th>\n",
       "      <th>nr.employed</th>\n",
       "      <th>y</th>\n",
       "    </tr>\n",
       "  </thead>\n",
       "  <tbody>\n",
       "    <tr>\n",
       "      <th>count</th>\n",
       "      <td>3247.000000</td>\n",
       "      <td>3247.000000</td>\n",
       "      <td>3247.000000</td>\n",
       "      <td>3247.000000</td>\n",
       "      <td>3247.000000</td>\n",
       "      <td>3247.000000</td>\n",
       "      <td>3247.000000</td>\n",
       "      <td>3247.000000</td>\n",
       "      <td>3247.000000</td>\n",
       "      <td>3247.000000</td>\n",
       "      <td>3247.0</td>\n",
       "    </tr>\n",
       "    <tr>\n",
       "      <th>mean</th>\n",
       "      <td>40.960887</td>\n",
       "      <td>554.199569</td>\n",
       "      <td>2.056052</td>\n",
       "      <td>0.474284</td>\n",
       "      <td>0.496766</td>\n",
       "      <td>-1.201140</td>\n",
       "      <td>93.365711</td>\n",
       "      <td>-39.796674</td>\n",
       "      <td>2.153141</td>\n",
       "      <td>5095.999569</td>\n",
       "      <td>1.0</td>\n",
       "    </tr>\n",
       "    <tr>\n",
       "      <th>std</th>\n",
       "      <td>13.768552</td>\n",
       "      <td>401.248410</td>\n",
       "      <td>1.615334</td>\n",
       "      <td>3.319670</td>\n",
       "      <td>0.872267</td>\n",
       "      <td>1.628817</td>\n",
       "      <td>0.675648</td>\n",
       "      <td>6.093385</td>\n",
       "      <td>1.755745</td>\n",
       "      <td>88.366216</td>\n",
       "      <td>0.0</td>\n",
       "    </tr>\n",
       "    <tr>\n",
       "      <th>min</th>\n",
       "      <td>17.000000</td>\n",
       "      <td>63.000000</td>\n",
       "      <td>1.000000</td>\n",
       "      <td>-1.000000</td>\n",
       "      <td>0.000000</td>\n",
       "      <td>-3.400000</td>\n",
       "      <td>92.201000</td>\n",
       "      <td>-50.800000</td>\n",
       "      <td>0.634000</td>\n",
       "      <td>4963.600000</td>\n",
       "      <td>1.0</td>\n",
       "    </tr>\n",
       "    <tr>\n",
       "      <th>25%</th>\n",
       "      <td>31.000000</td>\n",
       "      <td>254.500000</td>\n",
       "      <td>1.000000</td>\n",
       "      <td>-1.000000</td>\n",
       "      <td>0.000000</td>\n",
       "      <td>-1.800000</td>\n",
       "      <td>92.893000</td>\n",
       "      <td>-46.200000</td>\n",
       "      <td>0.854000</td>\n",
       "      <td>5017.500000</td>\n",
       "      <td>1.0</td>\n",
       "    </tr>\n",
       "    <tr>\n",
       "      <th>50%</th>\n",
       "      <td>37.000000</td>\n",
       "      <td>458.000000</td>\n",
       "      <td>2.000000</td>\n",
       "      <td>-1.000000</td>\n",
       "      <td>0.000000</td>\n",
       "      <td>-1.800000</td>\n",
       "      <td>93.200000</td>\n",
       "      <td>-40.400000</td>\n",
       "      <td>1.266000</td>\n",
       "      <td>5099.100000</td>\n",
       "      <td>1.0</td>\n",
       "    </tr>\n",
       "    <tr>\n",
       "      <th>75%</th>\n",
       "      <td>50.000000</td>\n",
       "      <td>744.000000</td>\n",
       "      <td>2.000000</td>\n",
       "      <td>-1.000000</td>\n",
       "      <td>1.000000</td>\n",
       "      <td>-0.100000</td>\n",
       "      <td>93.918000</td>\n",
       "      <td>-36.100000</td>\n",
       "      <td>4.855000</td>\n",
       "      <td>5191.000000</td>\n",
       "      <td>1.0</td>\n",
       "    </tr>\n",
       "    <tr>\n",
       "      <th>max</th>\n",
       "      <td>98.000000</td>\n",
       "      <td>4199.000000</td>\n",
       "      <td>17.000000</td>\n",
       "      <td>27.000000</td>\n",
       "      <td>6.000000</td>\n",
       "      <td>1.400000</td>\n",
       "      <td>94.767000</td>\n",
       "      <td>-26.900000</td>\n",
       "      <td>5.045000</td>\n",
       "      <td>5228.100000</td>\n",
       "      <td>1.0</td>\n",
       "    </tr>\n",
       "  </tbody>\n",
       "</table>\n",
       "</div>"
      ],
      "text/plain": [
       "               age     duration     campaign        pdays     previous  \\\n",
       "count  3247.000000  3247.000000  3247.000000  3247.000000  3247.000000   \n",
       "mean     40.960887   554.199569     2.056052     0.474284     0.496766   \n",
       "std      13.768552   401.248410     1.615334     3.319670     0.872267   \n",
       "min      17.000000    63.000000     1.000000    -1.000000     0.000000   \n",
       "25%      31.000000   254.500000     1.000000    -1.000000     0.000000   \n",
       "50%      37.000000   458.000000     2.000000    -1.000000     0.000000   \n",
       "75%      50.000000   744.000000     2.000000    -1.000000     1.000000   \n",
       "max      98.000000  4199.000000    17.000000    27.000000     6.000000   \n",
       "\n",
       "       emp.var.rate  cons.price.idx  cons.conf.idx    euribor3m  nr.employed  \\\n",
       "count   3247.000000     3247.000000    3247.000000  3247.000000  3247.000000   \n",
       "mean      -1.201140       93.365711     -39.796674     2.153141  5095.999569   \n",
       "std        1.628817        0.675648       6.093385     1.755745    88.366216   \n",
       "min       -3.400000       92.201000     -50.800000     0.634000  4963.600000   \n",
       "25%       -1.800000       92.893000     -46.200000     0.854000  5017.500000   \n",
       "50%       -1.800000       93.200000     -40.400000     1.266000  5099.100000   \n",
       "75%       -0.100000       93.918000     -36.100000     4.855000  5191.000000   \n",
       "max        1.400000       94.767000     -26.900000     5.045000  5228.100000   \n",
       "\n",
       "            y  \n",
       "count  3247.0  \n",
       "mean      1.0  \n",
       "std       0.0  \n",
       "min       1.0  \n",
       "25%       1.0  \n",
       "50%       1.0  \n",
       "75%       1.0  \n",
       "max       1.0  "
      ]
     },
     "execution_count": 16,
     "metadata": {},
     "output_type": "execute_result"
    }
   ],
   "source": [
    "dataset_yes.describe()"
   ]
  },
  {
   "cell_type": "code",
   "execution_count": 19,
   "id": "376f9987-efbd-4d01-aeb6-8f7f274d8a67",
   "metadata": {},
   "outputs": [
    {
     "data": {
      "text/html": [
       "<div>\n",
       "<style scoped>\n",
       "    .dataframe tbody tr th:only-of-type {\n",
       "        vertical-align: middle;\n",
       "    }\n",
       "\n",
       "    .dataframe tbody tr th {\n",
       "        vertical-align: top;\n",
       "    }\n",
       "\n",
       "    .dataframe thead th {\n",
       "        text-align: right;\n",
       "    }\n",
       "</style>\n",
       "<table border=\"1\" class=\"dataframe\">\n",
       "  <thead>\n",
       "    <tr style=\"text-align: right;\">\n",
       "      <th></th>\n",
       "      <th>age</th>\n",
       "      <th>duration</th>\n",
       "      <th>campaign</th>\n",
       "      <th>pdays</th>\n",
       "      <th>previous</th>\n",
       "      <th>emp.var.rate</th>\n",
       "      <th>cons.price.idx</th>\n",
       "      <th>cons.conf.idx</th>\n",
       "      <th>euribor3m</th>\n",
       "      <th>nr.employed</th>\n",
       "      <th>y</th>\n",
       "    </tr>\n",
       "  </thead>\n",
       "  <tbody>\n",
       "    <tr>\n",
       "      <th>count</th>\n",
       "      <td>25576.000000</td>\n",
       "      <td>25576.000000</td>\n",
       "      <td>25576.000000</td>\n",
       "      <td>25576.000000</td>\n",
       "      <td>25576.000000</td>\n",
       "      <td>25576.000000</td>\n",
       "      <td>25576.000000</td>\n",
       "      <td>25576.000000</td>\n",
       "      <td>25576.000000</td>\n",
       "      <td>25576.000000</td>\n",
       "      <td>25576.0</td>\n",
       "    </tr>\n",
       "    <tr>\n",
       "      <th>mean</th>\n",
       "      <td>39.873827</td>\n",
       "      <td>220.388411</td>\n",
       "      <td>2.623905</td>\n",
       "      <td>-0.888997</td>\n",
       "      <td>0.133211</td>\n",
       "      <td>0.244991</td>\n",
       "      <td>93.602534</td>\n",
       "      <td>-40.586530</td>\n",
       "      <td>3.805524</td>\n",
       "      <td>5175.928656</td>\n",
       "      <td>0.0</td>\n",
       "    </tr>\n",
       "    <tr>\n",
       "      <th>std</th>\n",
       "      <td>9.903874</td>\n",
       "      <td>204.067551</td>\n",
       "      <td>2.859522</td>\n",
       "      <td>1.031202</td>\n",
       "      <td>0.410762</td>\n",
       "      <td>1.486278</td>\n",
       "      <td>0.560148</td>\n",
       "      <td>4.399946</td>\n",
       "      <td>1.642189</td>\n",
       "      <td>64.880237</td>\n",
       "      <td>0.0</td>\n",
       "    </tr>\n",
       "    <tr>\n",
       "      <th>min</th>\n",
       "      <td>17.000000</td>\n",
       "      <td>0.000000</td>\n",
       "      <td>1.000000</td>\n",
       "      <td>-1.000000</td>\n",
       "      <td>0.000000</td>\n",
       "      <td>-3.400000</td>\n",
       "      <td>92.201000</td>\n",
       "      <td>-50.800000</td>\n",
       "      <td>0.634000</td>\n",
       "      <td>4963.600000</td>\n",
       "      <td>0.0</td>\n",
       "    </tr>\n",
       "    <tr>\n",
       "      <th>25%</th>\n",
       "      <td>32.000000</td>\n",
       "      <td>95.000000</td>\n",
       "      <td>1.000000</td>\n",
       "      <td>-1.000000</td>\n",
       "      <td>0.000000</td>\n",
       "      <td>-1.800000</td>\n",
       "      <td>93.075000</td>\n",
       "      <td>-42.700000</td>\n",
       "      <td>1.405000</td>\n",
       "      <td>5099.100000</td>\n",
       "      <td>0.0</td>\n",
       "    </tr>\n",
       "    <tr>\n",
       "      <th>50%</th>\n",
       "      <td>38.000000</td>\n",
       "      <td>164.000000</td>\n",
       "      <td>2.000000</td>\n",
       "      <td>-1.000000</td>\n",
       "      <td>0.000000</td>\n",
       "      <td>1.100000</td>\n",
       "      <td>93.918000</td>\n",
       "      <td>-41.800000</td>\n",
       "      <td>4.857000</td>\n",
       "      <td>5195.800000</td>\n",
       "      <td>0.0</td>\n",
       "    </tr>\n",
       "    <tr>\n",
       "      <th>75%</th>\n",
       "      <td>47.000000</td>\n",
       "      <td>278.000000</td>\n",
       "      <td>3.000000</td>\n",
       "      <td>-1.000000</td>\n",
       "      <td>0.000000</td>\n",
       "      <td>1.400000</td>\n",
       "      <td>93.994000</td>\n",
       "      <td>-36.400000</td>\n",
       "      <td>4.962000</td>\n",
       "      <td>5228.100000</td>\n",
       "      <td>0.0</td>\n",
       "    </tr>\n",
       "    <tr>\n",
       "      <th>max</th>\n",
       "      <td>94.000000</td>\n",
       "      <td>3509.000000</td>\n",
       "      <td>56.000000</td>\n",
       "      <td>22.000000</td>\n",
       "      <td>6.000000</td>\n",
       "      <td>1.400000</td>\n",
       "      <td>94.767000</td>\n",
       "      <td>-26.900000</td>\n",
       "      <td>5.045000</td>\n",
       "      <td>5228.100000</td>\n",
       "      <td>0.0</td>\n",
       "    </tr>\n",
       "  </tbody>\n",
       "</table>\n",
       "</div>"
      ],
      "text/plain": [
       "                age      duration      campaign         pdays      previous  \\\n",
       "count  25576.000000  25576.000000  25576.000000  25576.000000  25576.000000   \n",
       "mean      39.873827    220.388411      2.623905     -0.888997      0.133211   \n",
       "std        9.903874    204.067551      2.859522      1.031202      0.410762   \n",
       "min       17.000000      0.000000      1.000000     -1.000000      0.000000   \n",
       "25%       32.000000     95.000000      1.000000     -1.000000      0.000000   \n",
       "50%       38.000000    164.000000      2.000000     -1.000000      0.000000   \n",
       "75%       47.000000    278.000000      3.000000     -1.000000      0.000000   \n",
       "max       94.000000   3509.000000     56.000000     22.000000      6.000000   \n",
       "\n",
       "       emp.var.rate  cons.price.idx  cons.conf.idx     euribor3m  \\\n",
       "count  25576.000000    25576.000000   25576.000000  25576.000000   \n",
       "mean       0.244991       93.602534     -40.586530      3.805524   \n",
       "std        1.486278        0.560148       4.399946      1.642189   \n",
       "min       -3.400000       92.201000     -50.800000      0.634000   \n",
       "25%       -1.800000       93.075000     -42.700000      1.405000   \n",
       "50%        1.100000       93.918000     -41.800000      4.857000   \n",
       "75%        1.400000       93.994000     -36.400000      4.962000   \n",
       "max        1.400000       94.767000     -26.900000      5.045000   \n",
       "\n",
       "        nr.employed        y  \n",
       "count  25576.000000  25576.0  \n",
       "mean    5175.928656      0.0  \n",
       "std       64.880237      0.0  \n",
       "min     4963.600000      0.0  \n",
       "25%     5099.100000      0.0  \n",
       "50%     5195.800000      0.0  \n",
       "75%     5228.100000      0.0  \n",
       "max     5228.100000      0.0  "
      ]
     },
     "execution_count": 19,
     "metadata": {},
     "output_type": "execute_result"
    }
   ],
   "source": [
    "dataset_no.describe()"
   ]
  },
  {
   "cell_type": "markdown",
   "id": "56a56374-9cc2-4350-b786-eb21dea56db9",
   "metadata": {},
   "source": [
    "### 3.3.3. Visualisasi Fitur Age"
   ]
  },
  {
   "cell_type": "code",
   "execution_count": 38,
   "id": "75e70512-f153-4044-afa9-a4c44eb6dba7",
   "metadata": {},
   "outputs": [
    {
     "data": {
      "image/png": "[encoded data removed]",
      "text/plain": [
       "<Figure size 432x288 with 1 Axes>"
      ]
     },
     "metadata": {
      "needs_background": "light"
     },
     "output_type": "display_data"
    }
   ],
   "source": [
    "sns.kdeplot(data = train_set_bal, x = \"age\", hue = \"y\")\n",
    "plt.show()"
   ]
  },
  {
   "cell_type": "code",
   "execution_count": 55,
   "id": "a4eda854-5973-4eac-b410-ca9c532f0f5d",
   "metadata": {},
   "outputs": [
    {
     "data": {
      "image/png": "[encoded data removed]",
      "text/plain": [
       "<Figure size 432x288 with 1 Axes>"
      ]
     },
     "metadata": {
      "needs_background": "light"
     },
     "output_type": "display_data"
    }
   ],
   "source": [
    "sns.boxplot(data = train_set_bal, x = \"age\")\n",
    "plt.show()"
   ]
  },
  {
   "cell_type": "markdown",
   "id": "bed29f53-6d28-4e85-a5c7-3d4b3ae50029",
   "metadata": {},
   "source": [
    "### 3.2.3. Visualisasi Fitur Duration"
   ]
  },
  {
   "cell_type": "code",
   "execution_count": 40,
   "id": "61ce9ad2-b73a-498e-aebe-54e248b638f2",
   "metadata": {},
   "outputs": [
    {
     "data": {
      "image/png": "[encoded data removed]",
      "text/plain": [
       "<Figure size 432x288 with 1 Axes>"
      ]
     },
     "metadata": {
      "needs_background": "light"
     },
     "output_type": "display_data"
    }
   ],
   "source": [
    "sns.kdeplot(data = train_set_bal, x = \"duration\", hue = \"y\")\n",
    "plt.show()"
   ]
  },
  {
   "cell_type": "code",
   "execution_count": 56,
   "id": "2fe8d1b7-11e1-4dee-8205-6f26b2864b36",
   "metadata": {},
   "outputs": [
    {
     "data": {
      "text/plain": [
       "<AxesSubplot:xlabel='duration'>"
      ]
     },
     "execution_count": 56,
     "metadata": {},
     "output_type": "execute_result"
    },
    {
     "data": {
      "image/png": "[encoded data removed]",
      "text/plain": [
       "<Figure size 432x288 with 1 Axes>"
      ]
     },
     "metadata": {
      "needs_background": "light"
     },
     "output_type": "display_data"
    }
   ],
   "source": [
    "sns.boxplot(data = train_set_bal, x = \"duration\")"
   ]
  },
  {
   "cell_type": "markdown",
   "id": "7dc096d1-6856-46d9-a3ae-ac9c993c5f3c",
   "metadata": {},
   "source": [
    "## 3.2.4 Visualisasi Fitur campaign"
   ]
  },
  {
   "cell_type": "code",
   "execution_count": 41,
   "id": "3f8c8208-947d-413a-bff5-ab4e68563dd1",
   "metadata": {},
   "outputs": [
    {
     "data": {
      "image/png": "[encoded data removed]",
      "text/plain": [
       "<Figure size 432x288 with 1 Axes>"
      ]
     },
     "metadata": {
      "needs_background": "light"
     },
     "output_type": "display_data"
    }
   ],
   "source": [
    "sns.kdeplot(data = train_set_bal, x = \"campaign\", hue = \"y\")\n",
    "plt.show()"
   ]
  },
  {
   "cell_type": "code",
   "execution_count": 57,
   "id": "8bc0af42-0f42-4ca7-9478-c510917b83e9",
   "metadata": {},
   "outputs": [
    {
     "data": {
      "text/plain": [
       "<AxesSubplot:xlabel='campaign'>"
      ]
     },
     "execution_count": 57,
     "metadata": {},
     "output_type": "execute_result"
    },
    {
     "data": {
      "image/png": "[encoded data removed]",
      "text/plain": [
       "<Figure size 432x288 with 1 Axes>"
      ]
     },
     "metadata": {
      "needs_background": "light"
     },
     "output_type": "display_data"
    }
   ],
   "source": [
    "sns.boxplot(data = train_set_bal, x = \"campaign\")"
   ]
  },
  {
   "cell_type": "markdown",
   "id": "57dd0e16-3640-450d-a14e-b1b6c065674c",
   "metadata": {},
   "source": [
    "## 3.2.4 Visualisasi Fitur previous"
   ]
  },
  {
   "cell_type": "code",
   "execution_count": 44,
   "id": "9b05f81e-ae05-4e60-8e48-e9d3325b179c",
   "metadata": {},
   "outputs": [
    {
     "data": {
      "image/png": "[encoded data removed]",
      "text/plain": [
       "<Figure size 432x288 with 1 Axes>"
      ]
     },
     "metadata": {
      "needs_background": "light"
     },
     "output_type": "display_data"
    }
   ],
   "source": [
    "sns.kdeplot(data = train_set_bal, x = \"previous\", hue = \"y\")\n",
    "plt.show()"
   ]
  },
  {
   "cell_type": "code",
   "execution_count": 58,
   "id": "27a9b5d0-bcfd-456a-ba80-422d33de0536",
   "metadata": {},
   "outputs": [
    {
     "data": {
      "text/plain": [
       "<AxesSubplot:xlabel='previous'>"
      ]
     },
     "execution_count": 58,
     "metadata": {},
     "output_type": "execute_result"
    },
    {
     "data": {
      "image/png": "[encoded data removed]",
      "text/plain": [
       "<Figure size 432x288 with 1 Axes>"
      ]
     },
     "metadata": {
      "needs_background": "light"
     },
     "output_type": "display_data"
    }
   ],
   "source": [
    "sns.boxplot(data = train_set_bal, x = \"previous\")"
   ]
  },
  {
   "cell_type": "markdown",
   "id": "9240c7ab-713e-45fd-9783-6ec3bf93b18e",
   "metadata": {},
   "source": [
    "## 3.2.5 Visualisasi Fitur pdays"
   ]
  },
  {
   "cell_type": "code",
   "execution_count": 45,
   "id": "e6f3e266-3caa-421f-8c95-5b8f68132f22",
   "metadata": {},
   "outputs": [
    {
     "data": {
      "image/png": "[encoded data removed]",
      "text/plain": [
       "<Figure size 432x288 with 1 Axes>"
      ]
     },
     "metadata": {
      "needs_background": "light"
     },
     "output_type": "display_data"
    }
   ],
   "source": [
    "sns.kdeplot(data = train_set_bal, x = \"pdays\", hue = \"y\")\n",
    "plt.show()"
   ]
  },
  {
   "cell_type": "code",
   "execution_count": 60,
   "id": "30c2ff0b-54ce-4a05-91e5-060a0d02b472",
   "metadata": {},
   "outputs": [
    {
     "data": {
      "image/png": "[encoded data removed]",
      "text/plain": [
       "<Figure size 432x288 with 1 Axes>"
      ]
     },
     "metadata": {
      "needs_background": "light"
     },
     "output_type": "display_data"
    }
   ],
   "source": [
    "sns.boxplot(data = train_set_bal, x = \"pdays\")\n",
    "plt.show()"
   ]
  },
  {
   "cell_type": "code",
   "execution_count": 46,
   "id": "017b6f8c-d6d4-422a-9cf0-bbd2fef0939e",
   "metadata": {},
   "outputs": [
    {
     "data": {
      "image/png": "[encoded data removed]",
      "text/plain": [
       "<Figure size 432x288 with 1 Axes>"
      ]
     },
     "metadata": {
      "needs_background": "light"
     },
     "output_type": "display_data"
    }
   ],
   "source": [
    "sns.kdeplot(data = train_set_bal, x = \"emp.var.rate\", hue = \"y\")\n",
    "plt.show()"
   ]
  },
  {
   "cell_type": "code",
   "execution_count": 61,
   "id": "7def254c-6e6f-4944-b255-4da9e4e86c2a",
   "metadata": {},
   "outputs": [
    {
     "data": {
      "text/plain": [
       "<AxesSubplot:xlabel='emp.var.rate'>"
      ]
     },
     "execution_count": 61,
     "metadata": {},
     "output_type": "execute_result"
    },
    {
     "data": {
      "image/png": "[encoded data removed]",
      "text/plain": [
       "<Figure size 432x288 with 1 Axes>"
      ]
     },
     "metadata": {
      "needs_background": "light"
     },
     "output_type": "display_data"
    }
   ],
   "source": [
    "sns.boxplot(data = train_set_bal, x = \"emp.var.rate\")"
   ]
  },
  {
   "cell_type": "code",
   "execution_count": 49,
   "id": "7a215f27-8096-468d-b814-0927b3bc69c6",
   "metadata": {},
   "outputs": [
    {
     "data": {
      "image/png": "[encoded data removed]",
      "text/plain": [
       "<Figure size 432x288 with 1 Axes>"
      ]
     },
     "metadata": {
      "needs_background": "light"
     },
     "output_type": "display_data"
    }
   ],
   "source": [
    "sns.kdeplot(data = train_set_bal, x = \"cons.price.idx\", hue = \"y\")\n",
    "plt.show()"
   ]
  },
  {
   "cell_type": "code",
   "execution_count": 62,
   "id": "66e251f5-1f89-428b-8279-754179e32d06",
   "metadata": {},
   "outputs": [
    {
     "data": {
      "text/plain": [
       "<AxesSubplot:xlabel='cons.price.idx'>"
      ]
     },
     "execution_count": 62,
     "metadata": {},
     "output_type": "execute_result"
    },
    {
     "data": {
      "image/png": "[encoded data removed]",
      "text/plain": [
       "<Figure size 432x288 with 1 Axes>"
      ]
     },
     "metadata": {
      "needs_background": "light"
     },
     "output_type": "display_data"
    }
   ],
   "source": [
    "sns.boxplot(data = train_set_bal, x = \"cons.price.idx\")"
   ]
  },
  {
   "cell_type": "code",
   "execution_count": 50,
   "id": "84a19598-1ab8-4c61-9be2-e3563e7a42e5",
   "metadata": {},
   "outputs": [
    {
     "data": {
      "image/png": "[encoded data removed]",
      "text/plain": [
       "<Figure size 432x288 with 1 Axes>"
      ]
     },
     "metadata": {
      "needs_background": "light"
     },
     "output_type": "display_data"
    }
   ],
   "source": [
    "sns.kdeplot(data = train_set_bal, x = \"euribor3m\", hue = \"y\")\n",
    "plt.show()"
   ]
  },
  {
   "cell_type": "code",
   "execution_count": 63,
   "id": "9b182229-c162-47a7-966d-db27f9e7c028",
   "metadata": {},
   "outputs": [
    {
     "data": {
      "text/plain": [
       "<AxesSubplot:xlabel='euribor3m'>"
      ]
     },
     "execution_count": 63,
     "metadata": {},
     "output_type": "execute_result"
    },
    {
     "data": {
      "image/png": "[encoded data removed]",
      "text/plain": [
       "<Figure size 432x288 with 1 Axes>"
      ]
     },
     "metadata": {
      "needs_background": "light"
     },
     "output_type": "display_data"
    }
   ],
   "source": [
    "sns.boxplot(data = train_set_bal, x = \"euribor3m\")"
   ]
  },
  {
   "cell_type": "code",
   "execution_count": 53,
   "id": "548b2e30-5f1a-455b-9b43-e002ad536b56",
   "metadata": {},
   "outputs": [
    {
     "data": {
      "image/png": "[encoded data removed]",
      "text/plain": [
       "<Figure size 432x288 with 1 Axes>"
      ]
     },
     "metadata": {
      "needs_background": "light"
     },
     "output_type": "display_data"
    }
   ],
   "source": [
    "sns.kdeplot(data = train_set_bal, x = \"nr.employed\", hue = \"y\")\n",
    "plt.show()"
   ]
  },
  {
   "cell_type": "code",
   "execution_count": 64,
   "id": "d8957beb-1f30-4f06-a4f7-fe1cc67d9fb5",
   "metadata": {},
   "outputs": [
    {
     "data": {
      "text/plain": [
       "<AxesSubplot:xlabel='nr.employed'>"
      ]
     },
     "execution_count": 64,
     "metadata": {},
     "output_type": "execute_result"
    },
    {
     "data": {
      "image/png": "[encoded data removed]",
      "text/plain": [
       "<Figure size 432x288 with 1 Axes>"
      ]
     },
     "metadata": {
      "needs_background": "light"
     },
     "output_type": "display_data"
    }
   ],
   "source": [
    "sns.boxplot(data = train_set_bal, x = \"nr.employed\")"
   ]
  },
  {
   "cell_type": "markdown",
   "id": "9e71a4fd-83af-4c6b-a79c-d48cdf3cecf8",
   "metadata": {},
   "source": [
    "# Cek Korelasi Variable Numerik"
   ]
  },
  {
   "cell_type": "code",
   "execution_count": 70,
   "id": "a1436d98-bd30-4352-b9e1-e1dc71c5079b",
   "metadata": {},
   "outputs": [
    {
     "data": {
      "image/png": "[encoded data removed]",
      "text/plain": [
       "<Figure size 720x720 with 2 Axes>"
      ]
     },
     "metadata": {
      "needs_background": "light"
     },
     "output_type": "display_data"
    }
   ],
   "source": [
    "fig, ax = plt.subplots(figsize=(10,10))  \n",
    "sns.heatmap(train_set_bal.corr(method = \"spearman\"), annot = True, ax = ax)\n",
    "plt.show()"
   ]
  },
  {
   "cell_type": "markdown",
   "id": "692a66f6-224b-4aed-88c7-7a28a87a13c7",
   "metadata": {},
   "source": [
    "## Cek T-Test untuk masing-masing variable numerik"
   ]
  },
  {
   "cell_type": "code",
   "execution_count": 99,
   "id": "648441e8-b628-49f6-ae91-426c728cec60",
   "metadata": {},
   "outputs": [
    {
     "data": {
      "text/plain": [
       "Ttest_indResult(statistic=2.9747236819865943, pvalue=0.0029433208060747427)"
      ]
     },
     "execution_count": 99,
     "metadata": {},
     "output_type": "execute_result"
    }
   ],
   "source": [
    "scs.ttest_ind(\n",
    "    train_set_bal[train_set_bal['y'] == 1]['age'],\n",
    "    train_set_bal[train_set_bal['y'] == 0]['age']\n",
    ")"
   ]
  },
  {
   "cell_type": "code",
   "execution_count": 114,
   "id": "020ecf2a-f334-4f71-b0f8-982cd20a4a84",
   "metadata": {},
   "outputs": [
    {
     "data": {
      "text/plain": [
       "-1.6450883755548171"
      ]
     },
     "execution_count": 114,
     "metadata": {},
     "output_type": "execute_result"
    }
   ],
   "source": [
    "# nilai t critical untuk alpha 0.05\n",
    "scs.t.ppf(0.05, df = (len(train_set_bal) - 2))"
   ]
  },
  {
   "cell_type": "code",
   "execution_count": 108,
   "id": "3f81a63a-b391-49bd-be5f-72cbdda76b76",
   "metadata": {},
   "outputs": [
    {
     "data": {
      "text/plain": [
       "Ttest_indResult(statistic=41.85471792590191, pvalue=0.0)"
      ]
     },
     "execution_count": 108,
     "metadata": {},
     "output_type": "execute_result"
    }
   ],
   "source": [
    "scs.ttest_ind(\n",
    "    train_set_bal[train_set_bal['y'] == 1]['duration'],\n",
    "    train_set_bal[train_set_bal['y'] == 0]['duration']\n",
    ")"
   ]
  },
  {
   "cell_type": "code",
   "execution_count": 109,
   "id": "6dd01171-fbc3-4ba8-b8bf-2db91f8460ef",
   "metadata": {},
   "outputs": [
    {
     "data": {
      "text/plain": [
       "Ttest_indResult(statistic=-10.174155918278911, pvalue=3.921216951626728e-24)"
      ]
     },
     "execution_count": 109,
     "metadata": {},
     "output_type": "execute_result"
    }
   ],
   "source": [
    "scs.ttest_ind(\n",
    "    train_set_bal[train_set_bal['y'] == 1]['campaign'],\n",
    "    train_set_bal[train_set_bal['y'] == 0]['campaign']\n",
    ")"
   ]
  },
  {
   "cell_type": "code",
   "execution_count": 110,
   "id": "20271f5a-891d-48f8-bed8-9841a72e8556",
   "metadata": {},
   "outputs": [
    {
     "data": {
      "text/plain": [
       "Ttest_indResult(statistic=22.45509764006986, pvalue=1.310868085357526e-107)"
      ]
     },
     "execution_count": 110,
     "metadata": {},
     "output_type": "execute_result"
    }
   ],
   "source": [
    "scs.ttest_ind(\n",
    "    train_set_bal[train_set_bal['y'] == 1]['pdays'],\n",
    "    train_set_bal[train_set_bal['y'] == 0]['pdays']\n",
    ")"
   ]
  },
  {
   "cell_type": "code",
   "execution_count": 111,
   "id": "01c86ee8-16f0-4c76-9d64-3232ac29c022",
   "metadata": {},
   "outputs": [
    {
     "data": {
      "text/plain": [
       "Ttest_indResult(statistic=-15.212452681989639, pvalue=2.2308245450589686e-51)"
      ]
     },
     "execution_count": 111,
     "metadata": {},
     "output_type": "execute_result"
    }
   ],
   "source": [
    "scs.ttest_ind(\n",
    "    train_set_bal[train_set_bal['y'] == 1]['cons.price.idx'],\n",
    "    train_set_bal[train_set_bal['y'] == 0]['cons.price.idx']\n",
    ")"
   ]
  },
  {
   "cell_type": "code",
   "execution_count": 112,
   "id": "b3c063e4-027e-4000-9b19-348afd6c548f",
   "metadata": {},
   "outputs": [
    {
     "data": {
      "text/plain": [
       "Ttest_indResult(statistic=-38.83961935136416, pvalue=6.566753130955616e-297)"
      ]
     },
     "execution_count": 112,
     "metadata": {},
     "output_type": "execute_result"
    }
   ],
   "source": [
    "scs.ttest_ind(\n",
    "    train_set_bal[train_set_bal['y'] == 1]['euribor3m'],\n",
    "    train_set_bal[train_set_bal['y'] == 0]['euribor3m']\n",
    ")"
   ]
  },
  {
   "cell_type": "code",
   "execution_count": 113,
   "id": "f17fa0a5-cee5-43c4-9007-266ecd147533",
   "metadata": {},
   "outputs": [
    {
     "data": {
      "text/plain": [
       "Ttest_indResult(statistic=-41.19041574162689, pvalue=0.0)"
      ]
     },
     "execution_count": 113,
     "metadata": {},
     "output_type": "execute_result"
    }
   ],
   "source": [
    "scs.ttest_ind(\n",
    "    train_set_bal[train_set_bal['y'] == 1]['nr.employed'],\n",
    "    train_set_bal[train_set_bal['y'] == 0]['nr.employed']\n",
    ")"
   ]
  }
 ],
 "metadata": {
  "kernelspec": {
   "display_name": "Python 3 (ipykernel)",
   "language": "python",
   "name": "python3"
  },
  "language_info": {
   "codemirror_mode": {
    "name": "ipython",
    "version": 3
   },
   "file_extension": ".py",
   "mimetype": "text/x-python",
   "name": "python",
   "nbconvert_exporter": "python",
   "pygments_lexer": "ipython3",
   "version": "3.9.12"
  }
 },
 "nbformat": 4,
 "nbformat_minor": 5
}
