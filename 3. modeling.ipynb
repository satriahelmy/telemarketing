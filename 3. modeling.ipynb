{
 "cells": [
  {
   "cell_type": "markdown",
   "id": "c808d55d-8d38-42ea-98ed-ac4a572ebfa7",
   "metadata": {},
   "source": [
    "# 0. Import Libraries"
   ]
  },
  {
   "cell_type": "code",
   "execution_count": 1,
   "id": "fcbc51e4-4ab8-4e80-a071-e311ae396cbb",
   "metadata": {},
   "outputs": [],
   "source": [
    "from sklearn.linear_model import LogisticRegression\n",
    "from sklearn.tree import DecisionTreeClassifier\n",
    "from sklearn.ensemble import RandomForestClassifier\n",
    "from sklearn.neighbors import KNeighborsClassifier\n",
    "from xgboost import XGBClassifier\n",
    "\n",
    "from sklearn.metrics import classification_report, ConfusionMatrixDisplay, roc_curve, roc_auc_score\n",
    "from sklearn.model_selection import RandomizedSearchCV, GridSearchCV\n",
    "\n",
    "import joblib\n",
    "import json\n",
    "import pandas as pd\n",
    "import copy\n",
    "import hashlib\n",
    "\n",
    "import src.util as util"
   ]
  },
  {
   "cell_type": "markdown",
   "id": "95a5f32c-bf1f-45da-b64f-d5d0614d91c8",
   "metadata": {},
   "source": [
    "# 1. Load Config File"
   ]
  },
  {
   "cell_type": "code",
   "execution_count": 2,
   "id": "0e3cff15-a14b-4659-bb1b-4bfc05262260",
   "metadata": {},
   "outputs": [],
   "source": [
    "params = util.load_config()"
   ]
  },
  {
   "cell_type": "markdown",
   "id": "b67424f9-fc94-4fca-aa57-a78dfe662e14",
   "metadata": {},
   "source": [
    "# 2. Load Dataset"
   ]
  },
  {
   "cell_type": "code",
   "execution_count": 3,
   "id": "38c1ec4f-15f4-474f-bce5-49befa22b15d",
   "metadata": {},
   "outputs": [],
   "source": [
    "def load_train_feng(params: dict) -> pd.DataFrame:\n",
    "    # Load train set\n",
    "    x_train = util.pickle_load(params[\"train_feng_set_path\"][0])\n",
    "    y_train = util.pickle_load(params[\"train_feng_set_path\"][1])\n",
    "\n",
    "    return x_train, y_train\n",
    "\n",
    "def load_valid_feng(params: dict) -> pd.DataFrame:\n",
    "    # Load valid set\n",
    "    x_valid = util.pickle_load(params[\"valid_feng_set_path\"][0])\n",
    "    y_valid = util.pickle_load(params[\"valid_feng_set_path\"][1])\n",
    "\n",
    "    return x_valid, y_valid\n",
    "\n",
    "def load_test_feng(params: dict) -> pd.DataFrame:\n",
    "    # Load test set\n",
    "    x_test = util.pickle_load(params[\"test_feng_set_path\"][0])\n",
    "    y_test = util.pickle_load(params[\"test_feng_set_path\"][1])\n",
    "\n",
    "    return x_test, y_test"
   ]
  },
  {
   "cell_type": "code",
   "execution_count": 4,
   "id": "063801eb-58fa-42f8-9887-8bd099c7008b",
   "metadata": {},
   "outputs": [],
   "source": [
    "def load_dataset(params: dict) -> pd.DataFrame:\n",
    "    # Debug message\n",
    "    util.print_debug(\"Loading dataset.\")\n",
    "\n",
    "    # Load train set\n",
    "    x_train, y_train = load_train_feng(params)\n",
    "\n",
    "    # Load valid set\n",
    "    x_valid, y_valid = load_valid_feng(params)\n",
    "\n",
    "    # Load test set\n",
    "    x_test, y_test = load_test_feng(params)\n",
    "\n",
    "    # Debug message\n",
    "    util.print_debug(\"Dataset loaded.\")\n",
    "\n",
    "    # Return the dataset\n",
    "    return x_train, y_train, x_valid, y_valid, x_test, y_test"
   ]
  },
  {
   "cell_type": "markdown",
   "id": "f205b062-da06-4766-b42c-d67abde82ece",
   "metadata": {},
   "source": [
    "# 3. Create Training Log Template"
   ]
  },
  {
   "cell_type": "code",
   "execution_count": 5,
   "id": "2b49a52d-19e5-400c-b665-a626d3c9a688",
   "metadata": {},
   "outputs": [],
   "source": [
    "def training_log_template() -> dict:\n",
    "    # Debug message\n",
    "    util.print_debug(\"Creating training log template.\")\n",
    "    \n",
    "    # Template of training log\n",
    "    logger = {\n",
    "        \"model_name\" : [],\n",
    "        \"model_uid\" : [],\n",
    "        \"training_time\" : [],\n",
    "        \"training_date\" : [],\n",
    "        \"performance\" : [],\n",
    "        \"f1_score_avg\" : [],\n",
    "        \"data_configurations\" : [],\n",
    "    }\n",
    "\n",
    "    # Debug message\n",
    "    util.print_debug(\"Training log template created.\")\n",
    "\n",
    "    # Return training log template\n",
    "    return logger"
   ]
  },
  {
   "cell_type": "code",
   "execution_count": 6,
   "id": "7f1a9fae-18fc-4e40-81c3-f573bb583270",
   "metadata": {},
   "outputs": [],
   "source": [
    "def training_log_updater(current_log: dict, params: dict) -> list:\n",
    "    # Create copy of current log\n",
    "    current_log = copy.deepcopy(current_log)\n",
    "\n",
    "    # Path for training log file\n",
    "    log_path = params[\"training_log_path\"]\n",
    "\n",
    "    # Try to load training log file\n",
    "    try:\n",
    "        with open(log_path, \"r\") as file:\n",
    "            last_log = json.load(file)\n",
    "        file.close()\n",
    "\n",
    "    # If file not found, create a new one\n",
    "    except FileNotFoundError as fe:\n",
    "        with open(log_path, \"w\") as file:\n",
    "            file.write(\"[]\")\n",
    "        file.close()\n",
    "\n",
    "        with open(log_path, \"r\") as file:\n",
    "            last_log = json.load(file)\n",
    "        file.close()\n",
    "    \n",
    "    # Add current log to previous log\n",
    "    last_log.append(current_log)\n",
    "\n",
    "    # Save updated log\n",
    "    with open(log_path, \"w\") as file:\n",
    "        json.dump(last_log, file)\n",
    "        file.close()\n",
    "\n",
    "    # Return log\n",
    "    return last_log"
   ]
  },
  {
   "cell_type": "markdown",
   "id": "6a93460e-11c6-4cbf-9257-0de0527d1c53",
   "metadata": {},
   "source": [
    "# 4. Training & Evaluation"
   ]
  },
  {
   "cell_type": "markdown",
   "id": "2f9c373d-d851-48ec-b580-4d67c27d56af",
   "metadata": {},
   "source": [
    "## 4.1. Create Model Object"
   ]
  },
  {
   "cell_type": "code",
   "execution_count": 7,
   "id": "a1224d17-b889-41a3-8520-7772693be829",
   "metadata": {},
   "outputs": [],
   "source": [
    "def create_model_object(params: dict) -> list:\n",
    "    # Debug message\n",
    "    util.print_debug(\"Creating model objects.\")\n",
    "\n",
    "    # Create model objects\n",
    "    lgr = LogisticRegression()\n",
    "    dct = DecisionTreeClassifier()\n",
    "    rfc = RandomForestClassifier()\n",
    "    knn = KNeighborsClassifier()\n",
    "    xgb = XGBClassifier()\n",
    "\n",
    "    # Create list of model\n",
    "    list_of_model = [\n",
    "        { \"model_name\": lgr.__class__.__name__, \"model_object\": lgr, \"model_uid\": \"\"},\n",
    "        { \"model_name\": dct.__class__.__name__, \"model_object\": dct, \"model_uid\": \"\"},\n",
    "        { \"model_name\": rfc.__class__.__name__, \"model_object\": rfc, \"model_uid\": \"\"},\n",
    "        { \"model_name\": knn.__class__.__name__, \"model_object\": knn, \"model_uid\": \"\"},\n",
    "        { \"model_name\": xgb.__class__.__name__, \"model_object\": xgb, \"model_uid\": \"\"}\n",
    "    ]\n",
    "\n",
    "    # Debug message\n",
    "    util.print_debug(\"Model objects created.\")\n",
    "\n",
    "    # Return the list of model\n",
    "    return list_of_model"
   ]
  },
  {
   "cell_type": "markdown",
   "id": "d3f51dcb-e8e4-4c5e-8f03-19c4e4236311",
   "metadata": {},
   "source": [
    "## 4.2. Training Baseline Model"
   ]
  },
  {
   "cell_type": "code",
   "execution_count": 8,
   "id": "3574e3f4-46c7-455a-a039-3d9c2eab7c18",
   "metadata": {},
   "outputs": [],
   "source": [
    "def train_eval(configuration_model: str, params: dict, hyperparams_model: list = None):\n",
    "    # Load dataset\n",
    "    x_train, y_train, \\\n",
    "    x_valid, y_valid, \\\n",
    "    x_test, y_test = load_dataset(params)\n",
    "\n",
    "    # Variabel to store trained models\n",
    "    list_of_trained_model = dict()\n",
    "\n",
    "    # Create log template\n",
    "    training_log = training_log_template()\n",
    "\n",
    "    # Training for every data configuration\n",
    "    for config_data in x_train:\n",
    "        # Debug message\n",
    "        util.print_debug(\"Training model based on configuration data: {}\".format(config_data))\n",
    "\n",
    "        # Create model objects\n",
    "        if hyperparams_model == None:\n",
    "            list_of_model = create_model_object(params)\n",
    "        else:\n",
    "            list_of_model = copy.deepcopy(hyperparams_model)\n",
    "\n",
    "        # Variabel to store tained model\n",
    "        trained_model = list()\n",
    "\n",
    "        # Load train data based on its configuration\n",
    "        x_train_data = x_train[config_data]\n",
    "        y_train_data = y_train[config_data]\n",
    "\n",
    "        # Train each model by current dataset configuration\n",
    "        for model in list_of_model:\n",
    "            # Debug message\n",
    "            util.print_debug(\"Training model: {}\".format(model[\"model_name\"]))\n",
    "\n",
    "            # Training\n",
    "            training_time = util.time_stamp()\n",
    "            model[\"model_object\"].fit(x_train_data, y_train_data)\n",
    "            training_time = (util.time_stamp() - training_time).total_seconds()\n",
    "\n",
    "            # Debug message\n",
    "            util.print_debug(\"Evalutaing model: {}\".format(model[\"model_name\"]))\n",
    "\n",
    "            # Evaluation\n",
    "            y_predict = model[\"model_object\"].predict(x_valid)\n",
    "            performance = classification_report(y_valid, y_predict, output_dict = True)\n",
    "\n",
    "            # Debug message\n",
    "            util.print_debug(\"Logging: {}\".format(model[\"model_name\"]))\n",
    "\n",
    "            # Create UID\n",
    "            uid = hashlib.md5(str(training_time).encode()).hexdigest()\n",
    "\n",
    "            # Assign model's UID\n",
    "            model[\"model_uid\"] = uid\n",
    "\n",
    "            # Create training log data\n",
    "            training_log[\"model_name\"].append(\"{}-{}\".format(configuration_model, model[\"model_name\"]))\n",
    "            training_log[\"model_uid\"].append(uid)\n",
    "            training_log[\"training_time\"].append(training_time)\n",
    "            training_log[\"training_date\"].append(util.time_stamp())\n",
    "            training_log[\"performance\"].append(performance)\n",
    "            training_log[\"f1_score_avg\"].append(performance[\"macro avg\"][\"f1-score\"])\n",
    "            training_log[\"data_configurations\"].append(config_data)\n",
    "\n",
    "            # Collect current trained model\n",
    "            trained_model.append(copy.deepcopy(model))\n",
    "\n",
    "            # Debug message\n",
    "            util.print_debug(\"Model {} has been trained for configuration data {}.\".format(model[\"model_name\"], config_data))\n",
    "        \n",
    "        # Collect current trained list of model\n",
    "        list_of_trained_model[config_data] = copy.deepcopy(trained_model)\n",
    "    \n",
    "    # Debug message\n",
    "    util.print_debug(\"All combination models and configuration data has been trained.\")\n",
    "    \n",
    "    # Return list trained model\n",
    "    return list_of_trained_model, training_log"
   ]
  },
  {
   "cell_type": "code",
   "execution_count": 9,
   "id": "c88e8045-2d56-445a-aac1-2a1fb08d0eeb",
   "metadata": {},
   "outputs": [
    {
     "name": "stdout",
     "output_type": "stream",
     "text": [
      "2023-04-13 08:07:56.396568 Loading dataset.\n",
      "2023-04-13 08:07:56.431564 Dataset loaded.\n",
      "2023-04-13 08:07:56.432579 Creating training log template.\n",
      "2023-04-13 08:07:56.432579 Training log template created.\n",
      "2023-04-13 08:07:56.432579 Training model based on configuration data: Undersampling\n",
      "2023-04-13 08:07:56.432579 Creating model objects.\n",
      "2023-04-13 08:07:56.432579 Model objects created.\n",
      "2023-04-13 08:07:56.432579 Training model: LogisticRegression\n",
      "2023-04-13 08:07:56.512590 Evalutaing model: LogisticRegression\n",
      "2023-04-13 08:07:56.520631 Logging: LogisticRegression\n",
      "2023-04-13 08:07:56.520631 Model LogisticRegression has been trained for configuration data Undersampling.\n",
      "2023-04-13 08:07:56.520631 Training model: DecisionTreeClassifier\n",
      "2023-04-13 08:07:56.551726 Evalutaing model: DecisionTreeClassifier\n",
      "2023-04-13 08:07:56.558709 Logging: DecisionTreeClassifier\n",
      "2023-04-13 08:07:56.559705 Model DecisionTreeClassifier has been trained for configuration data Undersampling.\n",
      "2023-04-13 08:07:56.559705 Training model: RandomForestClassifier\n"
     ]
    },
    {
     "name": "stderr",
     "output_type": "stream",
     "text": [
      "C:\\Users\\PLN\\anaconda3\\lib\\site-packages\\sklearn\\linear_model\\_logistic.py:814: ConvergenceWarning: lbfgs failed to converge (status=1):\n",
      "STOP: TOTAL NO. of ITERATIONS REACHED LIMIT.\n",
      "\n",
      "Increase the number of iterations (max_iter) or scale the data as shown in:\n",
      "    https://scikit-learn.org/stable/modules/preprocessing.html\n",
      "Please also refer to the documentation for alternative solver options:\n",
      "    https://scikit-learn.org/stable/modules/linear_model.html#logistic-regression\n",
      "  n_iter_i = _check_optimize_result(\n"
     ]
    },
    {
     "name": "stdout",
     "output_type": "stream",
     "text": [
      "2023-04-13 08:07:56.944705 Evalutaing model: RandomForestClassifier\n",
      "2023-04-13 08:07:57.011064 Logging: RandomForestClassifier\n",
      "2023-04-13 08:07:57.026004 Model RandomForestClassifier has been trained for configuration data Undersampling.\n",
      "2023-04-13 08:07:57.026004 Training model: KNeighborsClassifier\n",
      "2023-04-13 08:07:57.028063 Evalutaing model: KNeighborsClassifier\n",
      "2023-04-13 08:07:57.626843 Logging: KNeighborsClassifier\n",
      "2023-04-13 08:07:57.628857 Model KNeighborsClassifier has been trained for configuration data Undersampling.\n",
      "2023-04-13 08:07:57.628857 Training model: XGBClassifier\n",
      "2023-04-13 08:07:57.894750 Evalutaing model: XGBClassifier\n",
      "2023-04-13 08:07:57.909749 Logging: XGBClassifier\n",
      "2023-04-13 08:07:57.914751 Model XGBClassifier has been trained for configuration data Undersampling.\n",
      "2023-04-13 08:07:57.945753 Training model based on configuration data: Oversampling\n",
      "2023-04-13 08:07:57.945753 Creating model objects.\n",
      "2023-04-13 08:07:57.946751 Model objects created.\n",
      "2023-04-13 08:07:57.950750 Training model: LogisticRegression\n"
     ]
    },
    {
     "name": "stderr",
     "output_type": "stream",
     "text": [
      "C:\\Users\\PLN\\anaconda3\\lib\\site-packages\\sklearn\\linear_model\\_logistic.py:814: ConvergenceWarning: lbfgs failed to converge (status=1):\n",
      "STOP: TOTAL NO. of ITERATIONS REACHED LIMIT.\n",
      "\n",
      "Increase the number of iterations (max_iter) or scale the data as shown in:\n",
      "    https://scikit-learn.org/stable/modules/preprocessing.html\n",
      "Please also refer to the documentation for alternative solver options:\n",
      "    https://scikit-learn.org/stable/modules/linear_model.html#logistic-regression\n",
      "  n_iter_i = _check_optimize_result(\n"
     ]
    },
    {
     "name": "stdout",
     "output_type": "stream",
     "text": [
      "2023-04-13 08:07:58.543756 Evalutaing model: LogisticRegression\n",
      "2023-04-13 08:07:58.552841 Logging: LogisticRegression\n",
      "2023-04-13 08:07:58.552841 Model LogisticRegression has been trained for configuration data Oversampling.\n",
      "2023-04-13 08:07:58.552841 Training model: DecisionTreeClassifier\n",
      "2023-04-13 08:07:58.834847 Evalutaing model: DecisionTreeClassifier\n",
      "2023-04-13 08:07:58.843846 Logging: DecisionTreeClassifier\n",
      "2023-04-13 08:07:58.843846 Model DecisionTreeClassifier has been trained for configuration data Oversampling.\n",
      "2023-04-13 08:07:58.843846 Training model: RandomForestClassifier\n",
      "2023-04-13 08:08:02.067145 Evalutaing model: RandomForestClassifier\n",
      "2023-04-13 08:08:02.147240 Logging: RandomForestClassifier\n",
      "2023-04-13 08:08:02.192240 Model RandomForestClassifier has been trained for configuration data Oversampling.\n",
      "2023-04-13 08:08:02.192240 Training model: KNeighborsClassifier\n",
      "2023-04-13 08:08:02.203232 Evalutaing model: KNeighborsClassifier\n",
      "2023-04-13 08:08:06.947017 Logging: KNeighborsClassifier\n",
      "2023-04-13 08:08:06.955947 Model KNeighborsClassifier has been trained for configuration data Oversampling.\n",
      "2023-04-13 08:08:06.955947 Training model: XGBClassifier\n",
      "2023-04-13 08:08:08.523913 Evalutaing model: XGBClassifier\n",
      "2023-04-13 08:08:08.540913 Logging: XGBClassifier\n",
      "2023-04-13 08:08:08.546916 Model XGBClassifier has been trained for configuration data Oversampling.\n",
      "2023-04-13 08:08:08.633914 Training model based on configuration data: SMOTE\n",
      "2023-04-13 08:08:08.634914 Creating model objects.\n",
      "2023-04-13 08:08:08.634914 Model objects created.\n",
      "2023-04-13 08:08:08.647925 Training model: LogisticRegression\n"
     ]
    },
    {
     "name": "stderr",
     "output_type": "stream",
     "text": [
      "C:\\Users\\PLN\\anaconda3\\lib\\site-packages\\sklearn\\linear_model\\_logistic.py:814: ConvergenceWarning: lbfgs failed to converge (status=1):\n",
      "STOP: TOTAL NO. of ITERATIONS REACHED LIMIT.\n",
      "\n",
      "Increase the number of iterations (max_iter) or scale the data as shown in:\n",
      "    https://scikit-learn.org/stable/modules/preprocessing.html\n",
      "Please also refer to the documentation for alternative solver options:\n",
      "    https://scikit-learn.org/stable/modules/linear_model.html#logistic-regression\n",
      "  n_iter_i = _check_optimize_result(\n"
     ]
    },
    {
     "name": "stdout",
     "output_type": "stream",
     "text": [
      "2023-04-13 08:08:09.257507 Evalutaing model: LogisticRegression\n",
      "2023-04-13 08:08:09.265494 Logging: LogisticRegression\n",
      "2023-04-13 08:08:09.265494 Model LogisticRegression has been trained for configuration data SMOTE.\n",
      "2023-04-13 08:08:09.265494 Training model: DecisionTreeClassifier\n",
      "2023-04-13 08:08:09.731934 Evalutaing model: DecisionTreeClassifier\n",
      "2023-04-13 08:08:09.740018 Logging: DecisionTreeClassifier\n",
      "2023-04-13 08:08:09.740018 Model DecisionTreeClassifier has been trained for configuration data SMOTE.\n",
      "2023-04-13 08:08:09.741034 Training model: RandomForestClassifier\n",
      "2023-04-13 08:08:14.301354 Evalutaing model: RandomForestClassifier\n",
      "2023-04-13 08:08:14.384043 Logging: RandomForestClassifier\n",
      "2023-04-13 08:08:14.427288 Model RandomForestClassifier has been trained for configuration data SMOTE.\n",
      "2023-04-13 08:08:14.427288 Training model: KNeighborsClassifier\n",
      "2023-04-13 08:08:14.442302 Evalutaing model: KNeighborsClassifier\n",
      "2023-04-13 08:08:19.180302 Logging: KNeighborsClassifier\n",
      "2023-04-13 08:08:19.187277 Model KNeighborsClassifier has been trained for configuration data SMOTE.\n",
      "2023-04-13 08:08:19.187277 Training model: XGBClassifier\n",
      "2023-04-13 08:08:21.854782 Evalutaing model: XGBClassifier\n",
      "2023-04-13 08:08:21.871781 Logging: XGBClassifier\n",
      "2023-04-13 08:08:21.877782 Model XGBClassifier has been trained for configuration data SMOTE.\n",
      "2023-04-13 08:08:21.958783 All combination models and configuration data has been trained.\n"
     ]
    }
   ],
   "source": [
    "list_of_trained_model, training_log = train_eval(\"Baseline\", params)"
   ]
  },
  {
   "cell_type": "markdown",
   "id": "7a7e6f4d-f1a6-488c-ad64-64d7b8294ed7",
   "metadata": {},
   "source": [
    "## 4.3. Choose Best Performance Baseline Model"
   ]
  },
  {
   "cell_type": "code",
   "execution_count": 10,
   "id": "547dead6-8a32-402a-82e3-031e4b9eec8c",
   "metadata": {},
   "outputs": [],
   "source": [
    "def get_production_model(list_of_model, training_log, params):\n",
    "    # Create copy list of model\n",
    "    list_of_model = copy.deepcopy(list_of_model)\n",
    "    \n",
    "    # Debug message\n",
    "    util.print_debug(\"Choosing model by metrics score.\")\n",
    "\n",
    "    # Create required predefined variabel\n",
    "    curr_production_model = None\n",
    "    prev_production_model = None\n",
    "    production_model_log = None\n",
    "\n",
    "    # Debug message\n",
    "    util.print_debug(\"Converting training log type of data from dict to dataframe.\")\n",
    "\n",
    "    # Convert dictionary to pandas for easy operation\n",
    "    training_log = pd.DataFrame(copy.deepcopy(training_log))\n",
    "\n",
    "    # Debug message\n",
    "    util.print_debug(\"Trying to load previous production model.\")\n",
    "\n",
    "    # Check if there is a previous production model\n",
    "    try:\n",
    "        prev_production_model = util.pickle_load(params[\"production_model_path\"])\n",
    "        util.print_debug(\"Previous production model loaded.\")\n",
    "\n",
    "    except FileNotFoundError as fe:\n",
    "        util.print_debug(\"No previous production model detected, choosing best model only from current trained model.\")\n",
    "\n",
    "    # If previous production model detected:\n",
    "    if prev_production_model != None:\n",
    "        # Debug message\n",
    "        util.print_debug(\"Loading validation data.\")\n",
    "        x_valid, y_valid = load_valid_feng(params)\n",
    "        \n",
    "        # Debug message\n",
    "        util.print_debug(\"Checking compatibilty previous production model's input with current train data's features.\")\n",
    "\n",
    "        # Check list features of previous production model and current dataset\n",
    "        production_model_features = set(prev_production_model[\"model_data\"][\"model_object\"].feature_names_in_)\n",
    "        current_dataset_features = set(x_valid.columns)\n",
    "        number_of_different_features = len((production_model_features - current_dataset_features) | (current_dataset_features - production_model_features))\n",
    "\n",
    "        # If feature matched:\n",
    "        if number_of_different_features == 0:\n",
    "            # Debug message\n",
    "            util.print_debug(\"Features compatible.\")\n",
    "\n",
    "            # Debug message\n",
    "            util.print_debug(\"Reassesing previous model performance using current validation data.\")\n",
    "\n",
    "            # Re-predict previous production model to provide valid metrics compared to other current models\n",
    "            y_pred = prev_production_model[\"model_data\"][\"model_object\"].predict(x_valid)\n",
    "\n",
    "            # Re-asses prediction result\n",
    "            eval_res = classification_report(y_valid, y_pred, output_dict = True)\n",
    "\n",
    "            # Debug message\n",
    "            util.print_debug(\"Assessing complete.\")\n",
    "\n",
    "            # Debug message\n",
    "            util.print_debug(\"Storing new metrics data to previous model structure.\")\n",
    "\n",
    "            # Update their performance log\n",
    "            prev_production_model[\"model_log\"][\"performance\"] = eval_res\n",
    "            prev_production_model[\"model_log\"][\"f1_score_avg\"] = eval_res[\"macro avg\"][\"f1-score\"]\n",
    "\n",
    "            # Debug message\n",
    "            util.print_debug(\"Adding previous model data to current training log and list of model\")\n",
    "\n",
    "            # Added previous production model log to current logs to compere who has the greatest f1 score\n",
    "            training_log = pd.concat([training_log, pd.DataFrame([prev_production_model[\"model_log\"]])])\n",
    "\n",
    "            # Added previous production model to current list of models to choose from if it has the greatest f1 score\n",
    "            list_of_model[\"prev_production_model\"] = [copy.deepcopy(prev_production_model[\"model_data\"])]\n",
    "        else:\n",
    "            # To indicate that we are not using previous production model\n",
    "            prev_production_model = None\n",
    "\n",
    "            # Debug message\n",
    "            util.print_debug(\"Different features between production model with current dataset is detected, ignoring production dataset.\")\n",
    "\n",
    "    # Debug message\n",
    "    util.print_debug(\"Sorting training log by f1 macro avg and training time.\")\n",
    "\n",
    "    # Sort training log by f1 score macro avg and trining time\n",
    "    best_model_log = training_log.sort_values([\"f1_score_avg\", \"training_time\"], ascending = [False, True]).iloc[0]\n",
    "    \n",
    "    # Debug message\n",
    "    util.print_debug(\"Searching model data based on sorted training log.\")\n",
    "\n",
    "    # Get model object with greatest f1 score macro avg by using UID\n",
    "    for configuration_data in list_of_model:\n",
    "        for model_data in list_of_model[configuration_data]:\n",
    "            if model_data[\"model_uid\"] == best_model_log[\"model_uid\"]:\n",
    "                curr_production_model = dict()\n",
    "                curr_production_model[\"model_data\"] = copy.deepcopy(model_data)\n",
    "                curr_production_model[\"model_log\"] = copy.deepcopy(best_model_log.to_dict())\n",
    "                curr_production_model[\"model_log\"][\"model_name\"] = \"Production-{}\".format(curr_production_model[\"model_data\"][\"model_name\"])\n",
    "                curr_production_model[\"model_log\"][\"training_date\"] = str(curr_production_model[\"model_log\"][\"training_date\"])\n",
    "                production_model_log = training_log_updater(curr_production_model[\"model_log\"], params)\n",
    "                break\n",
    "    \n",
    "    # In case UID not found\n",
    "    if curr_production_model == None:\n",
    "        raise RuntimeError(\"The best model not found in your list of model.\")\n",
    "    \n",
    "    # Debug message\n",
    "    util.print_debug(\"Model chosen.\")\n",
    "\n",
    "    # Dump chosen production model\n",
    "    util.pickle_dump(curr_production_model, params[\"production_model_path\"])\n",
    "    \n",
    "    # Return current chosen production model, log of production models and current training log\n",
    "    return curr_production_model, production_model_log, training_log\n",
    "    "
   ]
  },
  {
   "cell_type": "code",
   "execution_count": 11,
   "id": "3f6f928a-af56-48e3-ba77-18f8581fa746",
   "metadata": {},
   "outputs": [
    {
     "name": "stdout",
     "output_type": "stream",
     "text": [
      "2023-04-13 08:08:31.608608 Choosing model by metrics score.\n",
      "2023-04-13 08:08:31.608608 Converting training log type of data from dict to dataframe.\n",
      "2023-04-13 08:08:31.610607 Trying to load previous production model.\n",
      "2023-04-13 08:08:31.634608 Previous production model loaded.\n",
      "2023-04-13 08:08:31.634608 Loading validation data.\n",
      "2023-04-13 08:08:31.640608 Checking compatibilty previous production model's input with current train data's features.\n",
      "2023-04-13 08:08:31.640608 Different features between production model with current dataset is detected, ignoring production dataset.\n",
      "2023-04-13 08:08:31.641608 Sorting training log by f1 macro avg and training time.\n",
      "2023-04-13 08:08:31.643608 Searching model data based on sorted training log.\n",
      "2023-04-13 08:08:31.655610 Model chosen.\n"
     ]
    }
   ],
   "source": [
    "model, production_model_log, training_logs = get_production_model(list_of_trained_model, training_log, params)"
   ]
  },
  {
   "cell_type": "code",
   "execution_count": 12,
   "id": "c7564981-3745-48d0-9b07-8a23098e0c2a",
   "metadata": {},
   "outputs": [
    {
     "data": {
      "text/plain": [
       "{'model_data': {'model_name': 'XGBClassifier',\n",
       "  'model_object': XGBClassifier(base_score=None, booster=None, callbacks=None,\n",
       "                colsample_bylevel=None, colsample_bynode=None,\n",
       "                colsample_bytree=None, early_stopping_rounds=None,\n",
       "                enable_categorical=False, eval_metric=None, feature_types=None,\n",
       "                gamma=None, gpu_id=None, grow_policy=None, importance_type=None,\n",
       "                interaction_constraints=None, learning_rate=None, max_bin=None,\n",
       "                max_cat_threshold=None, max_cat_to_onehot=None,\n",
       "                max_delta_step=None, max_depth=None, max_leaves=None,\n",
       "                min_child_weight=None, missing=nan, monotone_constraints=None,\n",
       "                n_estimators=100, n_jobs=None, num_parallel_tree=None,\n",
       "                predictor=None, random_state=None, ...),\n",
       "  'model_uid': '4f556ba594666cd4d3e15f8e862d1bde'},\n",
       " 'model_log': {'model_name': 'Production-XGBClassifier',\n",
       "  'model_uid': '4f556ba594666cd4d3e15f8e862d1bde',\n",
       "  'training_time': 1.567966,\n",
       "  'training_date': '2023-04-13 08:08:08.541913',\n",
       "  'performance': {'0': {'precision': 0.9792539397566328,\n",
       "    'recall': 0.8954761036118205,\n",
       "    'f1-score': 0.9354930919485469,\n",
       "    'support': 5482},\n",
       "   '1': {'precision': 0.5081545064377683,\n",
       "    'recall': 0.8505747126436781,\n",
       "    'f1-score': 0.6362170875873187,\n",
       "    'support': 696},\n",
       "   'accuracy': 0.8904176108773065,\n",
       "   'macro avg': {'precision': 0.7437042230972005,\n",
       "    'recall': 0.8730254081277493,\n",
       "    'f1-score': 0.7858550897679328,\n",
       "    'support': 6178},\n",
       "   'weighted avg': {'precision': 0.9261809055076963,\n",
       "    'recall': 0.8904176108773065,\n",
       "    'f1-score': 0.9017773102982692,\n",
       "    'support': 6178}},\n",
       "  'f1_score_avg': 0.7858550897679328,\n",
       "  'data_configurations': 'Oversampling'}}"
      ]
     },
     "execution_count": 12,
     "metadata": {},
     "output_type": "execute_result"
    }
   ],
   "source": [
    "model"
   ]
  },
  {
   "cell_type": "markdown",
   "id": "021d2015-7dc1-4eab-abb1-e88324b8d330",
   "metadata": {},
   "source": [
    "# 5. Hyperparameter Tuning"
   ]
  },
  {
   "cell_type": "code",
   "execution_count": 13,
   "id": "66d0839e-2edb-4fc7-b152-e3c3bb7ee6fc",
   "metadata": {},
   "outputs": [],
   "source": [
    "def create_dist_params(model_name: str) -> dict:\n",
    "    # Define models paramteres\n",
    "    dist_params_xgb = {\n",
    "        \"n_estimators\" : [50, 100, 200, 300, 400, 500]\n",
    "    }\n",
    "    dist_params_dct = {\n",
    "        \"algorithm\" : [\"gini\", \"entropy\", \"log_loss\"],\n",
    "        \"min_sample_split\" : [1, 2, 4, 6, 10, 15, 20, 25],\n",
    "        \"min_sample_leaf\" : [1, 2, 4, 6, 10, 15, 20, 25]\n",
    "    }\n",
    "    dist_params_knn = {\n",
    "        \"creterion\" : [\"ball_tree\", \"kd_tree\", \"brute\"],\n",
    "        \"n_neighbors\" : [2, 3, 4, 5, 6, 10, 15, 20, 25],\n",
    "        \"leaf_size\" : [2, 3, 4, 5, 6, 10, 15, 20, 25],\n",
    "    }\n",
    "    dist_params_lgr = {\n",
    "        \"penalty\" : [\"l1\", \"l2\", \"elasticnet\", \"none\"],\n",
    "        \"C\" : [0.01, 0.05, 0.10, 0.15, 0.20, 0.30, 0.60, 0.90, 1],\n",
    "        \"solver\" : [\"saga\"],\n",
    "        \"max_iter\" : [100, 200, 300, 400, 500, 600, 700, 800, 900, 1000]\n",
    "    }\n",
    "    dist_params_rfc = {\n",
    "        \"algorithm\" : [\"gini\", \"entropy\", \"log_loss\"],\n",
    "        \"n_estimators\" : [50, 100, 200, 300, 400, 500],\n",
    "        \"min_sample_split\" : [1, 2, 4, 6, 10, 15, 20, 25],\n",
    "        \"min_sample_leaf\" : [1, 2, 4, 6, 10, 15, 20, 25]\n",
    "    }\n",
    "\n",
    "    # Make all models parameters in to one\n",
    "    dist_params = {\n",
    "        \"XGBClassifier\": dist_params_xgb,\n",
    "        \"DecisionTreeClassifier\": dist_params_dct,\n",
    "        \"KNeighborsClassifier\": dist_params_knn,\n",
    "        \"LogisticRegression\": dist_params_lgr,\n",
    "        \"RandomForestClassifier\": dist_params_rfc\n",
    "    }\n",
    "\n",
    "    # Return distribution of model parameters\n",
    "    return dist_params[model_name]"
   ]
  },
  {
   "cell_type": "code",
   "execution_count": 14,
   "id": "41fffe04-068a-46d2-8ab2-3a9f5f048e1a",
   "metadata": {},
   "outputs": [],
   "source": [
    "def hyper_params_tuning(model: dict) -> list:\n",
    "    # Create copy of current best baseline model\n",
    "    model = copy.deepcopy(model)\n",
    "\n",
    "    # Create model's parameter distribution\n",
    "    dist_params = create_dist_params(model[\"model_data\"][\"model_name\"])\n",
    "\n",
    "    # Create model object\n",
    "    model_rsc = GridSearchCV(model[\"model_data\"][\"model_object\"], dist_params, n_jobs = -1)\n",
    "    model_data = {\n",
    "        \"model_name\": model[\"model_data\"][\"model_name\"],\n",
    "        \"model_object\": model_rsc,\n",
    "        \"model_uid\": \"\"\n",
    "    }\n",
    "    \n",
    "    # Return model object\n",
    "    return [model_data]"
   ]
  },
  {
   "cell_type": "code",
   "execution_count": 15,
   "id": "39fb98a7-6722-4a34-a16f-3d1e6ceee482",
   "metadata": {},
   "outputs": [
    {
     "data": {
      "text/plain": [
       "{'model_data': {'model_name': 'XGBClassifier',\n",
       "  'model_object': XGBClassifier(base_score=None, booster=None, callbacks=None,\n",
       "                colsample_bylevel=None, colsample_bynode=None,\n",
       "                colsample_bytree=None, early_stopping_rounds=None,\n",
       "                enable_categorical=False, eval_metric=None, feature_types=None,\n",
       "                gamma=None, gpu_id=None, grow_policy=None, importance_type=None,\n",
       "                interaction_constraints=None, learning_rate=None, max_bin=None,\n",
       "                max_cat_threshold=None, max_cat_to_onehot=None,\n",
       "                max_delta_step=None, max_depth=None, max_leaves=None,\n",
       "                min_child_weight=None, missing=nan, monotone_constraints=None,\n",
       "                n_estimators=100, n_jobs=None, num_parallel_tree=None,\n",
       "                predictor=None, random_state=None, ...),\n",
       "  'model_uid': '4f556ba594666cd4d3e15f8e862d1bde'},\n",
       " 'model_log': {'model_name': 'Production-XGBClassifier',\n",
       "  'model_uid': '4f556ba594666cd4d3e15f8e862d1bde',\n",
       "  'training_time': 1.567966,\n",
       "  'training_date': '2023-04-13 08:08:08.541913',\n",
       "  'performance': {'0': {'precision': 0.9792539397566328,\n",
       "    'recall': 0.8954761036118205,\n",
       "    'f1-score': 0.9354930919485469,\n",
       "    'support': 5482},\n",
       "   '1': {'precision': 0.5081545064377683,\n",
       "    'recall': 0.8505747126436781,\n",
       "    'f1-score': 0.6362170875873187,\n",
       "    'support': 696},\n",
       "   'accuracy': 0.8904176108773065,\n",
       "   'macro avg': {'precision': 0.7437042230972005,\n",
       "    'recall': 0.8730254081277493,\n",
       "    'f1-score': 0.7858550897679328,\n",
       "    'support': 6178},\n",
       "   'weighted avg': {'precision': 0.9261809055076963,\n",
       "    'recall': 0.8904176108773065,\n",
       "    'f1-score': 0.9017773102982692,\n",
       "    'support': 6178}},\n",
       "  'f1_score_avg': 0.7858550897679328,\n",
       "  'data_configurations': 'Oversampling'}}"
      ]
     },
     "execution_count": 15,
     "metadata": {},
     "output_type": "execute_result"
    }
   ],
   "source": [
    "model"
   ]
  },
  {
   "cell_type": "code",
   "execution_count": 16,
   "id": "13b210e4-f98f-46c5-a4e7-489c643a35b8",
   "metadata": {},
   "outputs": [
    {
     "name": "stdout",
     "output_type": "stream",
     "text": [
      "2023-04-13 08:08:48.156075 Loading dataset.\n",
      "2023-04-13 08:08:48.201072 Dataset loaded.\n",
      "2023-04-13 08:08:48.201072 Creating training log template.\n",
      "2023-04-13 08:08:48.201072 Training log template created.\n",
      "2023-04-13 08:08:48.201072 Training model based on configuration data: Undersampling\n",
      "2023-04-13 08:08:48.207073 Training model: XGBClassifier\n",
      "2023-04-13 08:09:06.649706 Evalutaing model: XGBClassifier\n",
      "2023-04-13 08:09:06.669707 Logging: XGBClassifier\n",
      "2023-04-13 08:09:06.680706 Model XGBClassifier has been trained for configuration data Undersampling.\n",
      "2023-04-13 08:09:06.690711 Training model based on configuration data: Oversampling\n",
      "2023-04-13 08:09:06.697705 Training model: XGBClassifier\n",
      "2023-04-13 08:11:42.078221 Evalutaing model: XGBClassifier\n",
      "2023-04-13 08:11:42.120226 Logging: XGBClassifier\n",
      "2023-04-13 08:11:42.167222 Model XGBClassifier has been trained for configuration data Oversampling.\n",
      "2023-04-13 08:11:42.212224 Training model based on configuration data: SMOTE\n",
      "2023-04-13 08:11:42.221223 Training model: XGBClassifier\n",
      "2023-04-13 08:15:59.931657 Evalutaing model: XGBClassifier\n",
      "2023-04-13 08:15:59.968654 Logging: XGBClassifier\n",
      "2023-04-13 08:15:59.996658 Model XGBClassifier has been trained for configuration data SMOTE.\n",
      "2023-04-13 08:16:00.026654 All combination models and configuration data has been trained.\n"
     ]
    }
   ],
   "source": [
    "list_of_trained_model, training_log = train_eval(\"Hyperparams_Tuning\", params, hyper_params_tuning(model))"
   ]
  },
  {
   "cell_type": "code",
   "execution_count": 17,
   "id": "bc84c46d-33c1-42e8-af0b-0385b009e97b",
   "metadata": {},
   "outputs": [
    {
     "name": "stdout",
     "output_type": "stream",
     "text": [
      "2023-04-13 08:16:33.564086 Choosing model by metrics score.\n",
      "2023-04-13 08:16:33.564086 Converting training log type of data from dict to dataframe.\n",
      "2023-04-13 08:16:33.566086 Trying to load previous production model.\n",
      "2023-04-13 08:16:33.571087 Previous production model loaded.\n",
      "2023-04-13 08:16:33.571087 Loading validation data.\n",
      "2023-04-13 08:16:33.575085 Checking compatibilty previous production model's input with current train data's features.\n",
      "2023-04-13 08:16:33.575085 Features compatible.\n",
      "2023-04-13 08:16:33.575085 Reassesing previous model performance using current validation data.\n",
      "2023-04-13 08:16:33.590085 Assessing complete.\n",
      "2023-04-13 08:16:33.590085 Storing new metrics data to previous model structure.\n",
      "2023-04-13 08:16:33.590085 Adding previous model data to current training log and list of model\n",
      "2023-04-13 08:16:33.597086 Sorting training log by f1 macro avg and training time.\n",
      "2023-04-13 08:16:33.599085 Searching model data based on sorted training log.\n",
      "2023-04-13 08:16:33.629086 Model chosen.\n"
     ]
    }
   ],
   "source": [
    "model, production_model_log, training_logs = get_production_model(list_of_trained_model, training_log, params)"
   ]
  },
  {
   "cell_type": "code",
   "execution_count": 18,
   "id": "22649a1d-0151-4c83-b227-66ab42f1bf9b",
   "metadata": {},
   "outputs": [],
   "source": [
    "x_valid, y_valid = load_valid_feng(params)"
   ]
  },
  {
   "cell_type": "code",
   "execution_count": 19,
   "id": "b0e2d69a-9721-469e-a947-4fb755b9a0df",
   "metadata": {},
   "outputs": [],
   "source": [
    "y_pred = model[\"model_data\"][\"model_object\"].predict(x_valid)"
   ]
  },
  {
   "cell_type": "code",
   "execution_count": 20,
   "id": "35394f25-5af8-4014-b8bb-7e260d117aa5",
   "metadata": {},
   "outputs": [
    {
     "data": {
      "text/plain": [
       "<sklearn.metrics._plot.confusion_matrix.ConfusionMatrixDisplay at 0x2552c77f9a0>"
      ]
     },
     "execution_count": 20,
     "metadata": {},
     "output_type": "execute_result"
    },
    {
     "data": {
      "image/png": "[encoded data removed]",
      "text/plain": [
       "<Figure size 432x288 with 2 Axes>"
      ]
     },
     "metadata": {
      "needs_background": "light"
     },
     "output_type": "display_data"
    }
   ],
   "source": [
    "ConfusionMatrixDisplay.from_predictions(y_valid, y_pred)"
   ]
  },
  {
   "cell_type": "code",
   "execution_count": 21,
   "id": "ceda7d4c-d64e-4ecd-bef5-15b50ad6dc47",
   "metadata": {},
   "outputs": [
    {
     "name": "stdout",
     "output_type": "stream",
     "text": [
      "              precision    recall  f1-score   support\n",
      "\n",
      "           1       0.57      0.70      0.63       696\n",
      "           0       0.96      0.93      0.95      5482\n",
      "\n",
      "    accuracy                           0.91      6178\n",
      "   macro avg       0.77      0.82      0.79      6178\n",
      "weighted avg       0.92      0.91      0.91      6178\n",
      "\n"
     ]
    }
   ],
   "source": [
    "from sklearn.metrics import classification_report\n",
    "print(classification_report(y_true = y_valid,\n",
    "                            y_pred = y_pred,\n",
    "                           labels = [1,0]))"
   ]
  },
  {
   "cell_type": "code",
   "execution_count": 22,
   "id": "c7b6d1d0-ba24-4103-8d5a-af05197eee5f",
   "metadata": {},
   "outputs": [],
   "source": [
    "x_test, y_test = load_test_feng(params)"
   ]
  },
  {
   "cell_type": "code",
   "execution_count": 23,
   "id": "f2f4be93-a591-420b-9e90-a7b0b04641d0",
   "metadata": {},
   "outputs": [],
   "source": [
    "y_pred_test = model[\"model_data\"][\"model_object\"].predict(x_test)"
   ]
  },
  {
   "cell_type": "code",
   "execution_count": 24,
   "id": "6847b1d0-267f-4aa7-bb8e-360ce48af13c",
   "metadata": {},
   "outputs": [
    {
     "data": {
      "text/plain": [
       "<sklearn.metrics._plot.confusion_matrix.ConfusionMatrixDisplay at 0x255232c1f10>"
      ]
     },
     "execution_count": 24,
     "metadata": {},
     "output_type": "execute_result"
    },
    {
     "data": {
      "image/png": "[encoded data removed]",
      "text/plain": [
       "<Figure size 432x288 with 2 Axes>"
      ]
     },
     "metadata": {
      "needs_background": "light"
     },
     "output_type": "display_data"
    }
   ],
   "source": [
    "ConfusionMatrixDisplay.from_predictions(y_test, y_pred_test)"
   ]
  },
  {
   "cell_type": "code",
   "execution_count": 25,
   "id": "3931cade-8609-4ebe-8bbd-618d64fe4488",
   "metadata": {},
   "outputs": [
    {
     "name": "stdout",
     "output_type": "stream",
     "text": [
      "              precision    recall  f1-score   support\n",
      "\n",
      "           1       0.52      0.66      0.58       696\n",
      "           0       0.95      0.92      0.94      5483\n",
      "\n",
      "    accuracy                           0.89      6179\n",
      "   macro avg       0.74      0.79      0.76      6179\n",
      "weighted avg       0.91      0.89      0.90      6179\n",
      "\n"
     ]
    }
   ],
   "source": [
    "from sklearn.metrics import classification_report\n",
    "print(classification_report(y_true = y_test,\n",
    "                            y_pred = y_pred_test,\n",
    "                           labels = [1,0]))"
   ]
  }
 ],
 "metadata": {
  "kernelspec": {
   "display_name": "Python 3 (ipykernel)",
   "language": "python",
   "name": "python3"
  },
  "language_info": {
   "codemirror_mode": {
    "name": "ipython",
    "version": 3
   },
   "file_extension": ".py",
   "mimetype": "text/x-python",
   "name": "python",
   "nbconvert_exporter": "python",
   "pygments_lexer": "ipython3",
   "version": "3.9.12"
  }
 },
 "nbformat": 4,
 "nbformat_minor": 5
}
